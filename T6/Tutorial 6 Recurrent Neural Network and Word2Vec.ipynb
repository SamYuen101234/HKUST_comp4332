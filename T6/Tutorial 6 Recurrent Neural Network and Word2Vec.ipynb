{
 "cells": [
  {
   "cell_type": "code",
   "execution_count": 1,
   "metadata": {},
   "outputs": [],
   "source": [
    "import os\n",
    "import nltk\n",
    "import math\n",
    "import pandas as pd\n",
    "import numpy as np\n",
    "import keras\n",
    "import tensorflow as tf\n",
    "import matplotlib.pyplot as plt\n",
    "from collections import Counter\n",
    "from itertools import chain\n",
    "from sklearn.model_selection import StratifiedKFold\n",
    "from sklearn.metrics import accuracy_score, f1_score\n",
    "from keras.models import Sequential, Model\n",
    "from keras.layers import Dense, Activation, Embedding, Dropout, BatchNormalization, Input, Add, Concatenate,\\\n",
    "    Bidirectional, SimpleRNN, LSTM, GRU\n",
    "from nltk.corpus import stopwords\n",
    "from nltk.stem import PorterStemmer\n",
    "\n",
    "\n",
    "stopwords = set(stopwords.words(\"english\"))\n",
    "ps = PorterStemmer()"
   ]
  },
  {
   "cell_type": "markdown",
   "metadata": {},
   "source": [
    "# Pipeline"
   ]
  },
  {
   "cell_type": "markdown",
   "metadata": {},
   "source": [
    "### Data Loader"
   ]
  },
  {
   "cell_type": "markdown",
   "metadata": {},
   "source": [
    "Python provides a lot of packages to load files in different formats. We provide a simple data loader to help you load .csv files."
   ]
  },
  {
   "cell_type": "code",
   "execution_count": 2,
   "metadata": {},
   "outputs": [],
   "source": [
    "def load_data(file_name):\n",
    "    \"\"\"\n",
    "    :param file_name: a file name, type: str\n",
    "    return a list of ids, a list of reviews, a list of labels\n",
    "    https://pandas.pydata.org/pandas-docs/stable/generated/pandas.read_csv.html\n",
    "    \"\"\"\n",
    "    df = pd.read_csv(file_name)\n",
    "\n",
    "    return df[\"id\"], df[\"text\"], df[\"label\"]\n",
    "\n",
    "def load_labels(file_name):\n",
    "    \"\"\"\n",
    "    :param file_name: a file name, type: str\n",
    "    return a list of labels\n",
    "    \"\"\"\n",
    "    return pd.read_csv(file_name)[\"label\"]\n",
    "\n",
    "def write_predictions(file_name, pred):\n",
    "    df = pd.DataFrame(zip(range(len(pred)), pred))\n",
    "    df.columns = [\"id\", \"label\"]\n",
    "    df.to_csv(file_name, index=False)"
   ]
  },
  {
   "cell_type": "markdown",
   "metadata": {},
   "source": [
    "### Feature Extractor"
   ]
  },
  {
   "cell_type": "markdown",
   "metadata": {},
   "source": [
    "\n",
    "The **feature extractor** is one of the most important parts in a pipeline.\n",
    "In this tutorial, we introduce four different functions to extract features.\n"
   ]
  },
  {
   "cell_type": "code",
   "execution_count": 3,
   "metadata": {},
   "outputs": [],
   "source": [
    "def tokenize(text):\n",
    "    \"\"\"\n",
    "    :param text: a doc with multiple sentences, type: str\n",
    "    return a word list, type: list\n",
    "    e.g.\n",
    "    Input: 'Text mining is to identify useful information.'\n",
    "    Output: ['Text', 'mining', 'is', 'to', 'identify', 'useful', 'information', '.']\n",
    "    \"\"\"\n",
    "    return nltk.word_tokenize(text)\n",
    "\n",
    "def stem(tokens):\n",
    "    \"\"\"\n",
    "    :param tokens: a list of tokens, type: list\n",
    "    return a list of stemmed words, type: list\n",
    "    e.g.\n",
    "    Input: ['Text', 'mining', 'is', 'to', 'identify', 'useful', 'information', '.']\n",
    "    Output: ['text', 'mine', 'is', 'to', 'identifi', 'use', 'inform', '.']\n",
    "    \"\"\"\n",
    "\n",
    "    return [ps.stem(token).lower() for token in tokens]"
   ]
  },
  {
   "cell_type": "code",
   "execution_count": 4,
   "metadata": {},
   "outputs": [],
   "source": [
    "def get_feats_dict(feats, min_freq=-1, max_freq=-1, max_size=-1):\n",
    "    \"\"\"\n",
    "    :param data: a list of features, type: list(list)\n",
    "    :param min_freq: the lowest fequency that the fequency of a feature smaller than it will be filtered out, type: int\n",
    "    :param max_freq: the highest fequency that the fequency of a feature larger than it will be filtered out, type: int\n",
    "    :param max_size: the max size of feature dict, type: int\n",
    "    return a feature dict that maps features to indices, sorted by frequencies\n",
    "    # Counter document: https://docs.python.org/3.6/library/collections.html#collections.Counter\n",
    "    \"\"\"\n",
    "    # count all features\n",
    "    feat_cnt = Counter(feats) # [\"text\", \"text\", \"mine\"] --> {\"text\": 2, \"mine\": 1}\n",
    "    if max_size > 0 and min_freq == -1 and max_freq == -1:\n",
    "        valid_feats = [\"<pad>\", \"<unk>\"] + [f for f, cnt in feat_cnt.most_common(max_size-2)]\n",
    "    else:\n",
    "        valid_feats = [\"<pad>\", \"<unk>\"]\n",
    "        for f, cnt in feat_cnt.most_common():\n",
    "            if (min_freq == -1 or cnt >= min_freq) and \\\n",
    "                (max_freq == -1 or cnt <= max_freq):\n",
    "                valid_feats.append(f)\n",
    "    if max_size > 0 and len(valid_feats) > max_size:\n",
    "        valid_feats = valid_feats[:max_size]\n",
    "    print(\"Size of features:\", len(valid_feats))\n",
    "    \n",
    "    # build a mapping from features to indices\n",
    "    feats_dict = dict(zip(valid_feats, range(len(valid_feats))))\n",
    "    return feats_dict\n",
    "\n",
    "def get_index_vector(feats, feats_dict, max_len):\n",
    "    \"\"\"\n",
    "    :param feats: a list of features, type: list\n",
    "    :param feats_dict: a dict from features to indices, type: dict\n",
    "    :param feats: a list of features, type: list\n",
    "    return a feature vector,\n",
    "    \"\"\"\n",
    "    # initialize the vector as all zeros\n",
    "    vector = np.zeros(max_len, dtype=np.int64)\n",
    "    for i, f in enumerate(feats):\n",
    "        if i == max_len:\n",
    "            break\n",
    "        # get the feature index, return 1 (<unk>) if the feature is not existed\n",
    "        f_idx = feats_dict.get(f, 1)\n",
    "        vector[i] = f_idx\n",
    "    return vector"
   ]
  },
  {
   "cell_type": "markdown",
   "metadata": {},
   "source": [
    "### Classifier: Recurrent Neural Network"
   ]
  },
  {
   "cell_type": "markdown",
   "metadata": {},
   "source": [
    "In this tutorial, we will try to use the recurrent neural network. "
   ]
  },
  {
   "cell_type": "markdown",
   "metadata": {},
   "source": [
    "![RNN for Text](rnn_for_text.png)"
   ]
  },
  {
   "cell_type": "markdown",
   "metadata": {},
   "source": [
    "The RNN consists of three parts: (1) the word representation part, (2) the recurrent part, and (3) the fully connected part. The word representation part is the word embedding layer; the recurrent part includes multiple (bi-directional) recurrent layers to memorize and summarize contextualized word features; the fully connected part utilizes a multi-layer perceptron to make predictions."
   ]
  },
  {
   "cell_type": "code",
   "execution_count": 5,
   "metadata": {},
   "outputs": [],
   "source": [
    "def build_RNN(input_length, vocab_size, embedding_size,\n",
    "              hidden_size, output_size,\n",
    "              num_rnn_layers, num_mlp_layers,\n",
    "              rnn_type=\"lstm\",\n",
    "              bidirectional=False,\n",
    "              embedding_matrix=None,\n",
    "              activation=\"tanh\",\n",
    "              dropout_rate=0.0,\n",
    "              batch_norm=False,\n",
    "              l2_reg=0.0,\n",
    "              loss=\"categorical_crossentropy\",\n",
    "              optimizer=\"Adam\",\n",
    "              learning_rate=0.001,\n",
    "              metric=\"accuracy\"):\n",
    "    \"\"\"\n",
    "    :param input_length: the maximum length of sentences, type: int\n",
    "    :param vocab_size: the vacabulary size, type: int\n",
    "    :param embedding_size: the dimension of word representations, type: int\n",
    "    :param hidden_size: the dimension of the hidden states, type: int\n",
    "    :param output_size: the dimension of the prediction, type: int\n",
    "    :param num_rnn_layers: the number of layers of the RNN, type: int\n",
    "    :param num_mlp_layers: the number of layers of the MLP, type: int\n",
    "    :param rnn_type: the type of RNN, type: str\n",
    "    :param bidirectional: whether to use bidirectional rnn, type: bool\n",
    "    :param activation: the activation type, type: str\n",
    "    :param dropout_rate: the probability of dropout, type: float\n",
    "    :param batch_norm: whether to enable batch normalization, type: bool\n",
    "    :param l2_reg: the weight for the L2 regularizer, type: str\n",
    "    :param loss: the training loss, type: str\n",
    "    :param optimizer: the optimizer, type: str\n",
    "    :param learning_rate: the learning rate for the optimizer, type: float\n",
    "    :param metric: the metric, type: str\n",
    "    return a RNN for text classification,\n",
    "    # activation document: https://keras.io/activations/\n",
    "    # dropout document: https://keras.io/layers/core/#dropout\n",
    "    # embedding document: https://keras.io/layers/embeddings/#embedding\n",
    "    # recurrent layers document: https://keras.io/layers/recurrent\n",
    "    # batch normalization document: https://keras.io/layers/normalization/\n",
    "    # losses document: https://keras.io/losses/\n",
    "    # optimizers document: https://keras.io/optimizers/\n",
    "    # metrics document: https://keras.io/metrics/\n",
    "    \"\"\"\n",
    "    x = Input(shape=(input_length,))\n",
    "    \n",
    "    ################################\n",
    "    ###### Word Representation #####\n",
    "    ################################\n",
    "    # word representation layer\n",
    "    if embedding_matrix is not None:\n",
    "        emb = Embedding(input_dim=vocab_size,\n",
    "                        output_dim=embedding_size,\n",
    "                        input_length=input_length,\n",
    "                        embeddings_initializer=keras.initializers.Constant(embedding_matrix),\n",
    "                        trainable=False)(x)\n",
    "    else:\n",
    "        emb = Embedding(input_dim=vocab_size,\n",
    "                        output_dim=embedding_size,\n",
    "                        input_length=input_length,\n",
    "                        embeddings_initializer=keras.initializers.TruncatedNormal(mean=0.0, stddev=0.1, seed=0))(x)\n",
    "    \n",
    "    ################################\n",
    "    ####### Recurrent Layers #######\n",
    "    ################################\n",
    "    # recurrent layers\n",
    "    if rnn_type == \"rnn\":\n",
    "        fn = SimpleRNN\n",
    "    elif rnn_type == \"lstm\":\n",
    "        fn = LSTM\n",
    "    elif rnn_type == \"gru\":\n",
    "        fn = GRU\n",
    "    else:\n",
    "        raise NotImplementedError\n",
    "    h = emb\n",
    "    for i in range(num_rnn_layers):\n",
    "        is_last = (i == num_rnn_layers-1)\n",
    "        if bidirectional:\n",
    "            h = Bidirectional(fn(hidden_size,\n",
    "                                 kernel_initializer=keras.initializers.glorot_uniform(seed=0),\n",
    "                                 recurrent_initializer=keras.initializers.Orthogonal(gain=1.0, seed=0),\n",
    "                                 return_sequences=not is_last))(h)\n",
    "        else:\n",
    "            h = fn(hidden_size,\n",
    "                   kernel_initializer=keras.initializers.glorot_uniform(seed=0),\n",
    "                   recurrent_initializer=keras.initializers.Orthogonal(gain=1.0, seed=0),\n",
    "                   return_sequences=not is_last)(h)\n",
    "        h = Dropout(dropout_rate, seed=0)(h)\n",
    "    \n",
    "    ################################\n",
    "    #### Fully Connected Layers ####\n",
    "    ################################\n",
    "    # multi-layer perceptron\n",
    "    for i in range(num_mlp_layers-1):\n",
    "        new_h = Dense(hidden_size,\n",
    "                      kernel_initializer=keras.initializers.he_normal(seed=0),\n",
    "                      bias_initializer=\"zeros\",\n",
    "                      kernel_regularizer=keras.regularizers.l2(l2_reg))(h)\n",
    "        # add batch normalization layer\n",
    "        if batch_norm:\n",
    "            new_h = BatchNormalization()(new_h)\n",
    "        # add residual connection\n",
    "        if i == 0:\n",
    "            h = new_h\n",
    "        else:\n",
    "            h = Add()([h, new_h])\n",
    "        # add activation\n",
    "        h = Activation(activation)(h)\n",
    "    y = Dense(output_size,\n",
    "              activation=\"softmax\",\n",
    "              kernel_initializer=keras.initializers.he_normal(seed=0),\n",
    "              bias_initializer=\"zeros\")(h)\n",
    "    \n",
    "    # set the loss, the optimizer, and the metric\n",
    "    if optimizer == \"SGD\":\n",
    "        optimizer = keras.optimizers.SGD(lr=learning_rate)\n",
    "    elif optimizer == \"RMSprop\":\n",
    "        optmizer = keras.optimizers.RMSprop(learning_rate=learning_rate)\n",
    "    elif optimizer == \"Adam\":\n",
    "        optmizer = keras.optimizers.Adam(learning_rate=learning_rate)\n",
    "    else:\n",
    "        raise NotImplementedError\n",
    "    model = Model(x, y)\n",
    "    model.compile(loss=loss, optimizer=optimizer, metrics=[metric])\n",
    "    \n",
    "    return model"
   ]
  },
  {
   "cell_type": "markdown",
   "metadata": {},
   "source": [
    "### Try RNN for Text"
   ]
  },
  {
   "cell_type": "markdown",
   "metadata": {},
   "source": [
    "CNN does not require the n-grams, and RNN does not need, either. We only select the stemmed features whose frequencies are no less than 3."
   ]
  },
  {
   "cell_type": "code",
   "execution_count": 6,
   "metadata": {},
   "outputs": [
    {
     "name": "stdout",
     "output_type": "stream",
     "text": [
      "Size of features: 3978\n"
     ]
    }
   ],
   "source": [
    "train_file = \"data/train.csv\"\n",
    "test_file = \"data/test.csv\"\n",
    "ans_file = \"data/ans.csv\"\n",
    "pred_file = \"data/pred.csv\"\n",
    "min_freq = 3\n",
    "\n",
    "# load data\n",
    "train_ids, train_texts, train_labels = load_data(train_file)\n",
    "test_ids, test_texts, _ = load_data(test_file)\n",
    "test_labels = load_labels(ans_file)\n",
    "\n",
    "# extract features\n",
    "train_tokens = [tokenize(text) for text in train_texts]\n",
    "test_tokens = [tokenize(text) for text in test_texts]\n",
    "\n",
    "train_stemmed = [stem(tokens) for tokens in train_tokens]\n",
    "test_stemmed = [stem(tokens) for tokens in test_tokens]\n",
    "\n",
    "train_feats = train_stemmed\n",
    "test_feats = test_stemmed\n",
    "\n",
    "# build a mapping from features to indices\n",
    "feats_dict = get_feats_dict(\n",
    "    chain.from_iterable(train_feats),\n",
    "    min_freq=min_freq)"
   ]
  },
  {
   "cell_type": "markdown",
   "metadata": {},
   "source": [
    "We then need to determine the maximum sequence length. RNN is much slower than MLP and CNN. Hence, we choose to use 50 in this tutorial."
   ]
  },
  {
   "cell_type": "code",
   "execution_count": 7,
   "metadata": {},
   "outputs": [],
   "source": [
    "max_len = 50\n",
    "\n",
    "# build the feats_matrix\n",
    "# convert each example to a index vector, and then stack vectors as a matrix\n",
    "train_feats_matrix = np.vstack(\n",
    "    [get_index_vector(f, feats_dict, max_len) for f in train_feats])\n",
    "test_feats_matrix = np.vstack(\n",
    "    [get_index_vector(f, feats_dict, max_len) for f in test_feats])\n",
    "\n",
    "# convert labels to label_matrix\n",
    "num_classes = max(train_labels)\n",
    "# convert each label to a ont-hot vector, and then stack vectors as a matrix\n",
    "train_label_matrix = keras.utils.to_categorical(train_labels-1, num_classes=num_classes)\n",
    "test_label_matrix = keras.utils.to_categorical(test_labels-1, num_classes=num_classes)"
   ]
  },
  {
   "cell_type": "markdown",
   "metadata": {},
   "source": [
    "Let's try a RNN whose *embedding_size* is 100, *rnn_type* is \"rnn\", *num_rnn_layers* is 1, *hidden_size* is 100, *num_mlp_layers* is 2, *activation* is tanh, *l2_reg* is 0.005, *dropout_rate* is 0.5, and *batch_norm* is True."
   ]
  },
  {
   "cell_type": "code",
   "execution_count": 1,
   "metadata": {},
   "outputs": [
    {
     "ename": "NameError",
     "evalue": "name 'os' is not defined",
     "output_type": "error",
     "traceback": [
      "\u001b[0;31m---------------------------------------------------------------------------\u001b[0m",
      "\u001b[0;31mNameError\u001b[0m                                 Traceback (most recent call last)",
      "\u001b[0;32m<ipython-input-1-83df0af46bdd>\u001b[0m in \u001b[0;36m<module>\u001b[0;34m\u001b[0m\n\u001b[0;32m----> 1\u001b[0;31m \u001b[0mos\u001b[0m\u001b[0;34m.\u001b[0m\u001b[0mmakedirs\u001b[0m\u001b[0;34m(\u001b[0m\u001b[0;34m\"models\"\u001b[0m\u001b[0;34m,\u001b[0m \u001b[0mexist_ok\u001b[0m\u001b[0;34m=\u001b[0m\u001b[0;32mTrue\u001b[0m\u001b[0;34m)\u001b[0m\u001b[0;34m\u001b[0m\u001b[0;34m\u001b[0m\u001b[0m\n\u001b[0m\u001b[1;32m      2\u001b[0m model = build_RNN(input_length=max_len, vocab_size=len(feats_dict),\n\u001b[1;32m      3\u001b[0m                   \u001b[0membedding_size\u001b[0m\u001b[0;34m=\u001b[0m\u001b[0;36m100\u001b[0m\u001b[0;34m,\u001b[0m \u001b[0mhidden_size\u001b[0m\u001b[0;34m=\u001b[0m\u001b[0;36m100\u001b[0m\u001b[0;34m,\u001b[0m \u001b[0moutput_size\u001b[0m\u001b[0;34m=\u001b[0m\u001b[0mnum_classes\u001b[0m\u001b[0;34m,\u001b[0m\u001b[0;34m\u001b[0m\u001b[0;34m\u001b[0m\u001b[0m\n\u001b[1;32m      4\u001b[0m                   \u001b[0mrnn_type\u001b[0m\u001b[0;34m=\u001b[0m\u001b[0;34m\"rnn\"\u001b[0m\u001b[0;34m,\u001b[0m \u001b[0mnum_rnn_layers\u001b[0m\u001b[0;34m=\u001b[0m\u001b[0;36m1\u001b[0m\u001b[0;34m,\u001b[0m \u001b[0mnum_mlp_layers\u001b[0m\u001b[0;34m=\u001b[0m\u001b[0;36m2\u001b[0m\u001b[0;34m,\u001b[0m\u001b[0;34m\u001b[0m\u001b[0;34m\u001b[0m\u001b[0m\n\u001b[1;32m      5\u001b[0m                   \u001b[0mactivation\u001b[0m\u001b[0;34m=\u001b[0m\u001b[0;34m\"tanh\"\u001b[0m\u001b[0;34m,\u001b[0m\u001b[0;34m\u001b[0m\u001b[0;34m\u001b[0m\u001b[0m\n",
      "\u001b[0;31mNameError\u001b[0m: name 'os' is not defined"
     ]
    }
   ],
   "source": [
    "os.makedirs(\"models\", exist_ok=True)\n",
    "model = build_RNN(input_length=max_len, vocab_size=len(feats_dict),\n",
    "                  embedding_size=100, hidden_size=100, output_size=num_classes,\n",
    "                  rnn_type=\"rnn\", num_rnn_layers=1, num_mlp_layers=2,\n",
    "                  activation=\"tanh\",\n",
    "                  batch_norm=True,\n",
    "                  l2_reg=0.005, dropout_rate=0.5)\n",
    "checkpointer = keras.callbacks.ModelCheckpoint(\n",
    "    filepath=os.path.join(\"models\", \"weights.hdf5\"),\n",
    "    monitor=\"val_accuracy\",\n",
    "    verbose=0,\n",
    "    save_best_only=True)\n",
    "earlystopping = keras.callbacks.EarlyStopping(\n",
    "    monitor='val_loss',\n",
    "    patience=5,\n",
    "    verbose=0)\n",
    "\n",
    "np.random.seed(0)\n",
    "tf.random.set_seed(0)\n",
    "rnn_history = model.fit(train_feats_matrix, train_label_matrix,\n",
    "                    validation_split=0.1,\n",
    "                    epochs=100, batch_size=100, verbose=0,\n",
    "                    callbacks=[checkpointer, earlystopping])\n",
    "model = keras.models.load_model(os.path.join(\"models\", \"weights.hdf5\"))\n",
    "\n",
    "train_score = model.evaluate(train_feats_matrix, train_label_matrix,\n",
    "                             batch_size=100)\n",
    "test_score = model.evaluate(test_feats_matrix, test_label_matrix,\n",
    "                            batch_size=100)\n",
    "print(\"training loss:\", train_score[0], \"training accuracy\", train_score[1])\n",
    "print(\"test loss:\", test_score[0], \"test accuracy\", test_score[1])"
   ]
  },
  {
   "cell_type": "markdown",
   "metadata": {},
   "source": [
    "The performance is poor. Let's try different types of rnn, such as LSTM and GRU."
   ]
  },
  {
   "cell_type": "code",
   "execution_count": 9,
   "metadata": {},
   "outputs": [
    {
     "name": "stdout",
     "output_type": "stream",
     "text": [
      "20/20 [==============================] - 0s 5ms/step - loss: 1.4751 - accuracy: 0.6815\n",
      "4/4 [==============================] - 0s 4ms/step - loss: 1.9046 - accuracy: 0.4875\n",
      "training loss: 1.4751032590866089 training accuracy 0.6815000176429749\n",
      "test loss: 1.9045885801315308 test accuracy 0.48750001192092896\n"
     ]
    }
   ],
   "source": [
    "os.makedirs(\"models\", exist_ok=True)\n",
    "model = build_RNN(input_length=max_len, vocab_size=len(feats_dict),\n",
    "                  embedding_size=100, hidden_size=100, output_size=num_classes,\n",
    "                  rnn_type=\"lstm\", num_rnn_layers=1, num_mlp_layers=2,\n",
    "                  activation=\"tanh\",\n",
    "                  batch_norm=True,\n",
    "                  l2_reg=0.005, dropout_rate=0.5)\n",
    "checkpointer = keras.callbacks.ModelCheckpoint(\n",
    "    filepath=os.path.join(\"models\", \"weights.hdf5\"),\n",
    "    monitor=\"val_accuracy\",\n",
    "    verbose=0,\n",
    "    save_best_only=True)\n",
    "earlystopping = keras.callbacks.EarlyStopping(\n",
    "    monitor='val_loss',\n",
    "    patience=5,\n",
    "    verbose=0)\n",
    "\n",
    "np.random.seed(0)\n",
    "tf.random.set_seed(0)\n",
    "lstm_history = model.fit(train_feats_matrix, train_label_matrix,\n",
    "                    validation_split=0.1,\n",
    "                    epochs=100, batch_size=100, verbose=0,\n",
    "                    callbacks=[checkpointer, earlystopping])\n",
    "model = keras.models.load_model(os.path.join(\"models\", \"weights.hdf5\"))\n",
    "\n",
    "train_score = model.evaluate(train_feats_matrix, train_label_matrix,\n",
    "                             batch_size=100)\n",
    "test_score = model.evaluate(test_feats_matrix, test_label_matrix,\n",
    "                            batch_size=100)\n",
    "print(\"training loss:\", train_score[0], \"training accuracy\", train_score[1])\n",
    "print(\"test loss:\", test_score[0], \"test accuracy\", test_score[1])"
   ]
  },
  {
   "cell_type": "code",
   "execution_count": 10,
   "metadata": {},
   "outputs": [
    {
     "name": "stdout",
     "output_type": "stream",
     "text": [
      "20/20 [==============================] - 0s 5ms/step - loss: 1.0483 - accuracy: 0.7675\n",
      "4/4 [==============================] - 0s 5ms/step - loss: 2.0610 - accuracy: 0.4350\n",
      "training loss: 1.0482993125915527 training accuracy 0.7674999833106995\n",
      "test loss: 2.0609798431396484 test accuracy 0.4350000023841858\n"
     ]
    }
   ],
   "source": [
    "os.makedirs(\"models\", exist_ok=True)\n",
    "model = build_RNN(input_length=max_len, vocab_size=len(feats_dict),\n",
    "                  embedding_size=100, hidden_size=100, output_size=num_classes,\n",
    "                  rnn_type=\"gru\", num_rnn_layers=1, num_mlp_layers=2,\n",
    "                  activation=\"tanh\",\n",
    "                  batch_norm=True,\n",
    "                  l2_reg=0.005, dropout_rate=0.5)\n",
    "checkpointer = keras.callbacks.ModelCheckpoint(\n",
    "    filepath=os.path.join(\"models\", \"weights.hdf5\"),\n",
    "    monitor=\"val_accuracy\",\n",
    "    verbose=0,\n",
    "    save_best_only=True)\n",
    "earlystopping = keras.callbacks.EarlyStopping(\n",
    "    monitor='val_loss',\n",
    "    patience=5,\n",
    "    verbose=0)\n",
    "\n",
    "np.random.seed(0)\n",
    "tf.random.set_seed(0)\n",
    "gru_history = model.fit(train_feats_matrix, train_label_matrix,\n",
    "                    validation_split=0.1,\n",
    "                    epochs=100, batch_size=100, verbose=0,\n",
    "                    callbacks=[checkpointer, earlystopping])\n",
    "model = keras.models.load_model(os.path.join(\"models\", \"weights.hdf5\"))\n",
    "\n",
    "train_score = model.evaluate(train_feats_matrix, train_label_matrix,\n",
    "                             batch_size=100)\n",
    "test_score = model.evaluate(test_feats_matrix, test_label_matrix,\n",
    "                            batch_size=100)\n",
    "print(\"training loss:\", train_score[0], \"training accuracy\", train_score[1])\n",
    "print(\"test loss:\", test_score[0], \"test accuracy\", test_score[1])"
   ]
  },
  {
   "cell_type": "code",
   "execution_count": 11,
   "metadata": {},
   "outputs": [
    {
     "data": {
      "image/png": "[encoded data removed]",
      "text/plain": [
       "<Figure size 720x288 with 2 Axes>"
      ]
     },
     "metadata": {
      "needs_background": "light"
     },
     "output_type": "display_data"
    }
   ],
   "source": [
    "plt.figure(figsize=(10,4))\n",
    "plt.subplot(1,2,1)\n",
    "plt.plot(rnn_history.history[\"loss\"], label=\"RNN-training\", color=\"blue\", linestyle=\"dashed\")\n",
    "plt.plot(rnn_history.history[\"val_loss\"], label=\"RNN-validation\", color=\"blue\")\n",
    "plt.plot(lstm_history.history[\"loss\"], label=\"LSTM-training\", color=\"orange\", linestyle=\"dashed\")\n",
    "plt.plot(lstm_history.history[\"val_loss\"], label=\"LSTM-validation\", color=\"orange\")\n",
    "plt.plot(gru_history.history[\"loss\"], label=\"GRU-training\", color=\"gray\", linestyle=\"dashed\")\n",
    "plt.plot(gru_history.history[\"val_loss\"], label=\"GRU-validation\", color=\"gray\")\n",
    "plt.xlabel(\"Iteration\")\n",
    "plt.ylabel(\"Loss\")\n",
    "plt.legend()\n",
    "plt.subplot(1,2,2)\n",
    "plt.plot(rnn_history.history[\"accuracy\"], label=\"RNN-training\", color=\"blue\", linestyle=\"dashed\")\n",
    "plt.plot(rnn_history.history[\"val_accuracy\"], label=\"RNN-validation\", color=\"blue\")\n",
    "plt.plot(lstm_history.history[\"accuracy\"], label=\"LSTM-training\", color=\"orange\", linestyle=\"dashed\")\n",
    "plt.plot(lstm_history.history[\"val_accuracy\"], label=\"LSTM-validation\", color=\"orange\")\n",
    "plt.plot(gru_history.history[\"accuracy\"], label=\"GRU-training\", color=\"gray\", linestyle=\"dashed\")\n",
    "plt.plot(gru_history.history[\"val_accuracy\"], label=\"GRU-validation\", color=\"gray\")\n",
    "plt.xlabel(\"Iteration\")\n",
    "plt.ylabel(\"Accuracy\")\n",
    "plt.legend()\n",
    "plt.show()"
   ]
  },
  {
   "cell_type": "markdown",
   "metadata": {},
   "source": [
    "All three models are not good. But LSTM and GRU look more stable than RNN from curves, and LSTM looks better than GRU. Let's use LSTM in the following parts."
   ]
  },
  {
   "cell_type": "markdown",
   "metadata": {},
   "source": [
    "How about the bidirectional LSTM?"
   ]
  },
  {
   "cell_type": "code",
   "execution_count": 12,
   "metadata": {},
   "outputs": [
    {
     "name": "stdout",
     "output_type": "stream",
     "text": [
      "20/20 [==============================] - 0s 6ms/step - loss: 1.4449 - accuracy: 0.7390\n",
      "4/4 [==============================] - 0s 6ms/step - loss: 1.8702 - accuracy: 0.4875\n",
      "training loss: 1.4449416399002075 training accuracy 0.7390000224113464\n",
      "test loss: 1.870205044746399 test accuracy 0.48750001192092896\n"
     ]
    }
   ],
   "source": [
    "os.makedirs(\"models\", exist_ok=True)\n",
    "model = build_RNN(input_length=max_len, vocab_size=len(feats_dict),\n",
    "                  embedding_size=100, hidden_size=100, output_size=num_classes,\n",
    "                  rnn_type=\"lstm\", num_rnn_layers=1, bidirectional=True, num_mlp_layers=2,\n",
    "                  activation=\"tanh\",\n",
    "                  batch_norm=True,\n",
    "                  l2_reg=0.005, dropout_rate=0.5)\n",
    "checkpointer = keras.callbacks.ModelCheckpoint(\n",
    "    filepath=os.path.join(\"models\", \"weights.hdf5\"),\n",
    "    monitor=\"val_accuracy\",\n",
    "    verbose=0,\n",
    "    save_best_only=True)\n",
    "earlystopping = keras.callbacks.EarlyStopping(\n",
    "    monitor='val_loss',\n",
    "    patience=5,\n",
    "    verbose=0)\n",
    "\n",
    "np.random.seed(0)\n",
    "tf.random.set_seed(0)\n",
    "bilstm_history = model.fit(train_feats_matrix, train_label_matrix,\n",
    "                    validation_split=0.1,\n",
    "                    epochs=100, batch_size=100, verbose=0,\n",
    "                    callbacks=[checkpointer, earlystopping])\n",
    "model = keras.models.load_model(os.path.join(\"models\", \"weights.hdf5\"))\n",
    "\n",
    "train_score = model.evaluate(train_feats_matrix, train_label_matrix,\n",
    "                             batch_size=100)\n",
    "test_score = model.evaluate(test_feats_matrix, test_label_matrix,\n",
    "                            batch_size=100)\n",
    "print(\"training loss:\", train_score[0], \"training accuracy\", train_score[1])\n",
    "print(\"test loss:\", test_score[0], \"test accuracy\", test_score[1])"
   ]
  },
  {
   "cell_type": "code",
   "execution_count": 13,
   "metadata": {},
   "outputs": [
    {
     "data": {
      "image/png": "[encoded data removed]",
      "text/plain": [
       "<Figure size 720x288 with 2 Axes>"
      ]
     },
     "metadata": {
      "needs_background": "light"
     },
     "output_type": "display_data"
    }
   ],
   "source": [
    "plt.figure(figsize=(10,4))\n",
    "plt.subplot(1,2,1)\n",
    "plt.plot(lstm_history.history[\"loss\"], label=\"LSTM-training\", color=\"blue\", linestyle=\"dashed\")\n",
    "plt.plot(lstm_history.history[\"val_loss\"], label=\"LSTM-validation\", color=\"blue\")\n",
    "plt.plot(bilstm_history.history[\"loss\"], label=\"BiLSTM-training\", color=\"orange\", linestyle=\"dashed\")\n",
    "plt.plot(bilstm_history.history[\"val_loss\"], label=\"BiLSTM-validation\", color=\"orange\")\n",
    "plt.xlabel(\"Iteration\")\n",
    "plt.ylabel(\"Loss\")\n",
    "plt.legend()\n",
    "plt.subplot(1,2,2)\n",
    "plt.plot(lstm_history.history[\"accuracy\"], label=\"LSTM-training\", color=\"blue\", linestyle=\"dashed\")\n",
    "plt.plot(lstm_history.history[\"val_accuracy\"], label=\"LSTM-validation\", color=\"blue\")\n",
    "plt.plot(bilstm_history.history[\"accuracy\"], label=\"BiLSTM-training\", color=\"orange\", linestyle=\"dashed\")\n",
    "plt.plot(bilstm_history.history[\"val_accuracy\"], label=\"BiLSTM-validation\", color=\"orange\")\n",
    "plt.xlabel(\"Iteration\")\n",
    "plt.ylabel(\"Accuracy\")\n",
    "plt.legend()\n",
    "plt.show()"
   ]
  },
  {
   "cell_type": "markdown",
   "metadata": {},
   "source": [
    "It seems the performance is still not perfect. Can we achieve better accuracies? The answer is yes!"
   ]
  },
  {
   "cell_type": "markdown",
   "metadata": {},
   "source": [
    "# Word2Vec"
   ]
  },
  {
   "cell_type": "markdown",
   "metadata": {},
   "source": [
    "Word2Vec is a vital bridge between texts and deep learning. One-hot vectors are not ideal when the vocabulary size increases. Hence, we usually use a low-dimensional embeddings but it usually yields worse performance. With the help of Word2Vec, deep neural networks address more natural language problems."
   ]
  },
  {
   "cell_type": "markdown",
   "metadata": {},
   "source": [
    "### 1. Run Word2Vec on the Training Texts"
   ]
  },
  {
   "cell_type": "markdown",
   "metadata": {},
   "source": [
    "I provide three different methods to use Word2Vec. I use the fastText to demonstrate because it is the fastest way with the help of multiprocessing."
   ]
  },
  {
   "cell_type": "markdown",
   "metadata": {},
   "source": [
    "Firstly, you need to save your training texts into a file where each line is a sentence or a review. You should know how to do it. I provide the *data/review.txt* so we can skip this converting step."
   ]
  },
  {
   "cell_type": "markdown",
   "metadata": {},
   "source": [
    "Then download the fastText and run the skip-gram algorithm (for windows):"
   ]
  },
  {
   "cell_type": "code",
   "execution_count": null,
   "metadata": {},
   "outputs": [],
   "source": [
    "!fasttext-win64-latest-Release\\Release\\fasttext.exe skipgram -input data\\reviews.txt -output models\\word2vec -dim 100 -minCount 3 -epoch 10"
   ]
  },
  {
   "cell_type": "markdown",
   "metadata": {},
   "source": [
    "For linux, Please build fastText: https://github.com/facebookresearch/fastText"
   ]
  },
  {
   "cell_type": "code",
   "execution_count": 20,
   "metadata": {},
   "outputs": [
    {
     "name": "stdout",
     "output_type": "stream",
     "text": [
      "Read 0M words\n",
      "Number of words:  3970\n",
      "Number of labels: 0\n",
      "Progress: 100.0% words/sec/thread:  112003 lr:  0.000000 avg.loss:  2.506782 ETA:   0h 0m 0s\n"
     ]
    }
   ],
   "source": [
    "!./fastText-0.9.2/fasttext skipgram -input data/reviews.txt -output models/word2vec -dim 100 -minCount 3 -epoch 10"
   ]
  },
  {
   "cell_type": "markdown",
   "metadata": {},
   "source": [
    "### 2. Load the Word Representations in Memory"
   ]
  },
  {
   "cell_type": "markdown",
   "metadata": {},
   "source": [
    "After getting the Word2Vec representations, we need to load them in memory."
   ]
  },
  {
   "cell_type": "code",
   "execution_count": 21,
   "metadata": {},
   "outputs": [
    {
     "name": "stdout",
     "output_type": "stream",
     "text": [
      "number of words: 3970 word dimension: 100\n"
     ]
    }
   ],
   "source": [
    "embedding_matrix = np.zeros((len(feats_dict), 100), dtype=np.float32)\n",
    "with open(\"models/word2vec.vec\", \"r\") as f:\n",
    "    n_words, n_dim = f.readline().split()\n",
    "    n_words, n_dim = int(n_words), int(n_dim) \n",
    "    print(\"number of words:\", n_words, \"word dimension:\", n_dim)\n",
    "    while True:\n",
    "        line = f.readline()\n",
    "        if not line:\n",
    "            break\n",
    "        word, vec = line.split(\" \", 1)\n",
    "        word_idx = feats_dict.get(word, -1)\n",
    "        if word_idx != -1:\n",
    "            embedding_matrix[word_idx] = np.array(vec.split(), dtype=np.float32)"
   ]
  },
  {
   "cell_type": "markdown",
   "metadata": {},
   "source": [
    "Let's see the embedding matrix."
   ]
  },
  {
   "cell_type": "code",
   "execution_count": 22,
   "metadata": {},
   "outputs": [
    {
     "name": "stdout",
     "output_type": "stream",
     "text": [
      "[[ 0.0000e+00  0.0000e+00  0.0000e+00  0.0000e+00  0.0000e+00  0.0000e+00\n",
      "   0.0000e+00  0.0000e+00  0.0000e+00  0.0000e+00  0.0000e+00  0.0000e+00\n",
      "   0.0000e+00  0.0000e+00  0.0000e+00  0.0000e+00  0.0000e+00  0.0000e+00\n",
      "   0.0000e+00  0.0000e+00  0.0000e+00  0.0000e+00  0.0000e+00  0.0000e+00\n",
      "   0.0000e+00  0.0000e+00  0.0000e+00  0.0000e+00  0.0000e+00  0.0000e+00\n",
      "   0.0000e+00  0.0000e+00  0.0000e+00  0.0000e+00  0.0000e+00  0.0000e+00\n",
      "   0.0000e+00  0.0000e+00  0.0000e+00  0.0000e+00  0.0000e+00  0.0000e+00\n",
      "   0.0000e+00  0.0000e+00  0.0000e+00  0.0000e+00  0.0000e+00  0.0000e+00\n",
      "   0.0000e+00  0.0000e+00  0.0000e+00  0.0000e+00  0.0000e+00  0.0000e+00\n",
      "   0.0000e+00  0.0000e+00  0.0000e+00  0.0000e+00  0.0000e+00  0.0000e+00\n",
      "   0.0000e+00  0.0000e+00  0.0000e+00  0.0000e+00  0.0000e+00  0.0000e+00\n",
      "   0.0000e+00  0.0000e+00  0.0000e+00  0.0000e+00  0.0000e+00  0.0000e+00\n",
      "   0.0000e+00  0.0000e+00  0.0000e+00  0.0000e+00  0.0000e+00  0.0000e+00\n",
      "   0.0000e+00  0.0000e+00  0.0000e+00  0.0000e+00  0.0000e+00  0.0000e+00\n",
      "   0.0000e+00  0.0000e+00  0.0000e+00  0.0000e+00  0.0000e+00  0.0000e+00\n",
      "   0.0000e+00  0.0000e+00  0.0000e+00  0.0000e+00  0.0000e+00  0.0000e+00\n",
      "   0.0000e+00  0.0000e+00  0.0000e+00  0.0000e+00]\n",
      " [ 8.8459e-02  3.2789e-02  2.1837e-01  1.2721e-01  1.1766e-01 -1.2774e-01\n",
      "   1.7255e-01  2.8680e-02 -9.5973e-02 -1.0905e-01 -1.2489e-01  2.9756e-01\n",
      "  -5.3823e-01  3.8067e-01  2.8411e-01  2.0775e-01  2.2387e-02  3.0498e-03\n",
      "   4.5851e-02  4.3492e-01 -3.9803e-02 -8.3925e-03  2.6791e-01 -6.0847e-02\n",
      "  -6.0515e-02 -7.9464e-03  2.4475e-01 -2.3721e-01 -1.3592e-01  2.3461e-01\n",
      "  -4.7477e-02  1.9191e-01 -1.2830e-02 -3.6436e-01 -4.4467e-02 -1.4997e-01\n",
      "  -1.7782e-01  2.9546e-01 -9.1782e-02  6.2339e-02 -1.3614e-01  1.3075e-01\n",
      "  -4.7983e-02 -5.7166e-02  1.7477e-01 -1.7583e-01  1.2967e-01 -2.8884e-02\n",
      "  -4.6059e-02  7.7260e-02  2.1396e-01 -3.6625e-04 -1.5767e-01 -1.6260e-01\n",
      "  -8.5071e-02 -2.7291e-02 -1.8696e-01 -2.0343e-01 -1.7726e-01  3.5363e-02\n",
      "   4.7447e-02  1.8665e-01 -9.0731e-02  8.5552e-02 -2.0351e-01 -8.0447e-02\n",
      "   5.0464e-02 -1.4398e-01  6.3469e-02  2.9918e-01 -5.0699e-02  1.4860e-01\n",
      "  -2.5782e-01  1.5028e-01 -3.3805e-01 -2.0376e-01  1.7102e-02 -9.9000e-02\n",
      "   1.4649e-01 -3.0598e-01  1.7110e-01 -1.6290e-01  9.1533e-02  1.2956e-01\n",
      "   2.5389e-01 -2.4359e-02 -1.6665e-01 -1.6301e-01 -6.4996e-02 -1.8125e-01\n",
      "  -1.1282e-01  2.1665e-01  3.9841e-01  2.5687e-01  1.3689e-01  9.8033e-02\n",
      "   2.8309e-02 -1.2681e-01  1.1390e-01 -2.2207e-02]\n",
      " [ 2.2919e-01  5.3856e-02  9.2441e-02  1.7796e-01  2.9846e-01  2.1428e-01\n",
      "  -9.7583e-02 -2.1210e-02  9.5578e-02 -1.9814e-01  9.7142e-02  2.0124e-02\n",
      "  -2.3762e-01  2.7824e-01  2.4344e-01 -1.0016e-01 -5.5341e-02 -7.5707e-02\n",
      "   6.2395e-02  1.8757e-01 -4.2429e-02 -9.5475e-02  1.9788e-02 -1.0408e-01\n",
      "  -4.6619e-02 -1.6245e-01  3.0872e-01 -1.8911e-02 -7.7436e-03  2.9961e-01\n",
      "  -1.8905e-01  1.4319e-01 -3.1239e-02 -1.4499e-01  1.6445e-02 -1.4685e-01\n",
      "  -1.3961e-01  1.8272e-01  1.1127e-02  1.2820e-01 -2.4365e-01  1.8437e-01\n",
      "  -7.3113e-02 -3.8455e-04  1.8807e-01  6.4333e-02  3.3377e-01 -1.1681e-01\n",
      "  -6.8073e-02  1.7100e-02  1.3192e-01  1.0199e-01  1.0326e-01  3.0652e-02\n",
      "  -1.3242e-01 -3.7898e-02 -1.0019e-01 -1.0127e-01 -1.7888e-01  2.5237e-01\n",
      "  -4.9440e-02 -1.2355e-01  6.0694e-02 -4.7356e-02 -7.9425e-02  1.4456e-01\n",
      "   5.4239e-02 -1.3689e-01 -1.6557e-02  9.6604e-02 -2.0806e-01  1.2612e-01\n",
      "  -1.7848e-01  7.2608e-02 -2.7140e-01 -3.4320e-01 -5.3852e-03 -4.3806e-02\n",
      "  -4.0611e-02 -3.4472e-01  1.0911e-01  1.6111e-03  1.6965e-01 -7.6705e-02\n",
      "   2.9164e-01  2.8170e-01 -1.3264e-01 -1.4469e-01  4.2161e-02 -1.5374e-01\n",
      "  -6.4779e-04  1.1731e-01  3.3906e-01  8.7395e-02  2.2760e-01 -8.2043e-02\n",
      "  -3.8347e-02 -1.0668e-01 -1.5230e-01 -1.6667e-01]\n",
      " [ 3.2803e-02  2.1864e-01  1.8111e-01  4.4084e-02  5.0897e-01  1.6526e-01\n",
      "  -6.6868e-02 -3.5323e-01  7.4514e-02  4.4677e-02  1.8726e-01 -3.4593e-02\n",
      "  -2.5266e-01  2.8393e-01  1.5672e-01  1.4635e-01  1.7329e-01 -2.0356e-02\n",
      "  -1.8710e-01  3.3028e-01  4.7143e-02 -3.8296e-01  2.8686e-01 -1.2908e-01\n",
      "  -4.4489e-02 -9.1052e-02  1.4529e-01 -1.6940e-01  4.6378e-02  4.5256e-01\n",
      "  -8.6809e-02 -2.9862e-02  5.4360e-02 -9.1931e-02 -2.0443e-01 -6.7483e-02\n",
      "   9.7440e-02  2.3348e-01 -3.6192e-02  9.2567e-02 -1.5724e-01  1.2129e-01\n",
      "  -3.4957e-01 -6.0021e-02  1.3612e-01  3.9593e-02  2.2297e-01 -1.7965e-01\n",
      "   1.0415e-01 -7.0015e-02  2.9507e-02  1.1762e-03  2.2810e-01 -1.4259e-01\n",
      "   1.5276e-02  1.3396e-01 -4.6890e-02 -6.4370e-02 -1.7591e-01  3.0527e-01\n",
      "   1.4731e-01 -1.2775e-01 -3.8044e-01  1.7922e-01  1.8652e-01  2.9578e-01\n",
      "   3.8529e-02 -2.6489e-01  1.6743e-01  1.1507e-01 -7.5026e-02  2.9936e-01\n",
      "   6.6141e-02  7.2977e-02 -2.2898e-01 -2.5436e-01 -1.7478e-01 -2.2613e-01\n",
      "   4.7138e-02 -1.7103e-01  9.2648e-03 -1.2900e-01  1.4653e-01  9.5972e-02\n",
      "   1.7490e-01  3.6767e-01  2.2106e-02 -1.6309e-01 -3.4156e-02 -4.6468e-02\n",
      "   1.4535e-01  3.3071e-01  1.5574e-01  1.4569e-01 -1.4474e-02 -2.1654e-01\n",
      "   3.8884e-02 -2.2868e-02 -1.4321e-01  9.0266e-02]\n",
      " [ 2.6348e-02  5.7811e-02 -3.6759e-02  1.3322e-01  4.5034e-01  2.2611e-01\n",
      "   2.4320e-01  5.8877e-02  2.1550e-01 -8.8666e-02  1.5468e-01  6.1339e-02\n",
      "  -2.1254e-01  3.2999e-01  3.6086e-01  2.5960e-02 -6.0326e-02 -9.8990e-02\n",
      "   8.0069e-03  1.4589e-01 -5.5423e-02 -2.4694e-01 -2.0365e-01 -1.8810e-03\n",
      "   7.6644e-02 -1.3823e-01  6.7099e-02 -1.1796e-01 -1.4951e-01  2.4069e-01\n",
      "  -1.5945e-01  1.8418e-01 -1.1757e-01 -4.0930e-02  2.5243e-02 -3.2758e-01\n",
      "   5.0682e-02  3.3426e-01 -2.2567e-02  2.3334e-01 -2.4737e-01  2.0385e-01\n",
      "  -1.2627e-01  6.6243e-02  2.6748e-02  1.6984e-01  3.1382e-01  2.5293e-02\n",
      "   1.8095e-01  2.6115e-02  7.7847e-02  2.7636e-01 -2.6631e-02 -1.3604e-01\n",
      "  -9.2071e-02  3.3570e-03 -4.2472e-02 -6.9605e-02 -4.0364e-01  1.1594e-01\n",
      "   9.5001e-02 -2.0033e-01 -2.0264e-01 -3.1942e-02  1.7932e-01  6.8931e-02\n",
      "   3.8465e-02 -1.6015e-01  9.0654e-02  1.0229e-01 -2.3284e-01  1.5311e-02\n",
      "  -1.2731e-02 -2.8441e-02 -1.8043e-01  7.2205e-02 -7.0219e-02 -2.9238e-01\n",
      "  -1.5154e-01 -2.3330e-01  1.0277e-01 -2.6495e-01 -1.4624e-01 -8.8663e-02\n",
      "   2.7997e-01  4.9230e-01 -1.4390e-01 -8.7939e-02 -6.5186e-02 -2.4602e-01\n",
      "   7.8529e-02  1.3986e-01  4.2144e-01  5.7730e-02  1.9671e-01 -1.7811e-01\n",
      "  -3.1307e-02 -6.9727e-02 -1.1415e-01 -1.0903e-03]]\n"
     ]
    }
   ],
   "source": [
    "print(embedding_matrix[:5])"
   ]
  },
  {
   "cell_type": "markdown",
   "metadata": {},
   "source": [
    "An example of using python API"
   ]
  },
  {
   "cell_type": "code",
   "execution_count": 15,
   "metadata": {},
   "outputs": [],
   "source": [
    "# !pip install gensim\n",
    "# !pip install python-Levenshtein \n",
    "from gensim.models import Word2Vec, KeyedVectors\n",
    "\n",
    "filepath = os.path.join(\"data\", \"reviews.txt\")\n",
    "savepath = os.path.join(\"models\", \"word2vec.model\")"
   ]
  },
  {
   "cell_type": "code",
   "execution_count": 16,
   "metadata": {},
   "outputs": [],
   "source": [
    "word_vectors = Word2Vec(corpus_file=filepath, vector_size=100, epochs=10, sg=1).wv\n",
    "word_vectors.save(savepath)"
   ]
  },
  {
   "cell_type": "code",
   "execution_count": null,
   "metadata": {},
   "outputs": [],
   "source": [
    "embedding_matrix_ex = np.zeros((len(feats_dict), 100), dtype=np.float32)\n",
    "wv = KeyedVectors.load(savepath, mmap='r')\n",
    "print(\"number of words:\", len(wv), \"word dimension:\", wv.vector_size)\n",
    "for i in range(len(wv)):\n",
    "    word = wv.index_to_key[i]\n",
    "    word_idx = feats_dict.get(word, -1)\n",
    "    if word_idx != -1:\n",
    "        embedding_matrix_ex[word_idx] = wv[word]\n",
    "print(embedding_matrix_ex[:5])"
   ]
  },
  {
   "cell_type": "markdown",
   "metadata": {},
   "source": [
    "### 3. Set the Embedding Matrix and Fix It"
   ]
  },
  {
   "cell_type": "code",
   "execution_count": 23,
   "metadata": {
    "scrolled": true
   },
   "outputs": [
    {
     "name": "stdout",
     "output_type": "stream",
     "text": [
      "20/20 [==============================] - 0s 6ms/step - loss: 1.8062 - accuracy: 0.5745\n",
      "4/4 [==============================] - 0s 5ms/step - loss: 1.9584 - accuracy: 0.4925\n",
      "training loss: 1.8062134981155396 training accuracy 0.5745000243186951\n",
      "test loss: 1.9584360122680664 test accuracy 0.4925000071525574\n"
     ]
    }
   ],
   "source": [
    "os.makedirs(\"models\", exist_ok=True)\n",
    "model = build_RNN(input_length=max_len, vocab_size=len(feats_dict),\n",
    "                  embedding_size=100, hidden_size=100, output_size=num_classes,\n",
    "                  rnn_type=\"lstm\", num_rnn_layers=1, bidirectional=True, num_mlp_layers=2,\n",
    "                  embedding_matrix=embedding_matrix,\n",
    "                  activation=\"tanh\",\n",
    "                  batch_norm=True,\n",
    "                  l2_reg=0.005, dropout_rate=0.5)\n",
    "checkpointer = keras.callbacks.ModelCheckpoint(\n",
    "    filepath=os.path.join(\"models\", \"weights.hdf5\"),\n",
    "    monitor=\"val_accuracy\",\n",
    "    verbose=0,\n",
    "    save_best_only=True)\n",
    "earlystopping = keras.callbacks.EarlyStopping(\n",
    "    monitor='val_loss',\n",
    "    patience=5,\n",
    "    verbose=0)\n",
    "\n",
    "np.random.seed(0)\n",
    "tf.random.set_seed(0)\n",
    "word2vec_bilstm_history = model.fit(train_feats_matrix, train_label_matrix,\n",
    "                                    validation_split=0.1,\n",
    "                                    epochs=100, batch_size=100, verbose=0,\n",
    "                                    callbacks=[checkpointer, earlystopping])\n",
    "model = keras.models.load_model(os.path.join(\"models\", \"weights.hdf5\"))\n",
    "\n",
    "train_score = model.evaluate(train_feats_matrix, train_label_matrix,\n",
    "                             batch_size=100)\n",
    "test_score = model.evaluate(test_feats_matrix, test_label_matrix,\n",
    "                            batch_size=100)\n",
    "print(\"training loss:\", train_score[0], \"training accuracy\", train_score[1])\n",
    "print(\"test loss:\", test_score[0], \"test accuracy\", test_score[1])"
   ]
  },
  {
   "cell_type": "code",
   "execution_count": 24,
   "metadata": {},
   "outputs": [
    {
     "data": {
      "image/png": "[encoded data removed]",
      "text/plain": [
       "<Figure size 720x288 with 2 Axes>"
      ]
     },
     "metadata": {
      "needs_background": "light"
     },
     "output_type": "display_data"
    }
   ],
   "source": [
    "plt.figure(figsize=(10,4))\n",
    "plt.subplot(1,2,1)\n",
    "plt.plot(bilstm_history.history[\"loss\"], label=\"BiLSTM-training\", color=\"blue\", linestyle=\"dashed\")\n",
    "plt.plot(bilstm_history.history[\"val_loss\"], label=\"BiLSTM-validation\", color=\"blue\")\n",
    "plt.plot(word2vec_bilstm_history.history[\"loss\"], label=\"Word2Vec+BiLSTM-training\", color=\"orange\", linestyle=\"dashed\")\n",
    "plt.plot(word2vec_bilstm_history.history[\"val_loss\"], label=\"Word2Vec+BiLSTM-validation\", color=\"orange\")\n",
    "plt.xlabel(\"Iteration\")\n",
    "plt.ylabel(\"Loss\")\n",
    "plt.legend()\n",
    "plt.subplot(1,2,2)\n",
    "plt.plot(bilstm_history.history[\"accuracy\"], label=\"BiLSTM-training\", color=\"blue\", linestyle=\"dashed\")\n",
    "plt.plot(bilstm_history.history[\"val_accuracy\"], label=\"BiLSTM-validation\", color=\"blue\")\n",
    "plt.plot(word2vec_bilstm_history.history[\"accuracy\"], label=\"Word2Vec+BiLSTM-training\", color=\"orange\", linestyle=\"dashed\")\n",
    "plt.plot(word2vec_bilstm_history.history[\"val_accuracy\"], label=\"Word2Vec+BiLSTM-validation\", color=\"orange\")\n",
    "plt.xlabel(\"Iteration\")\n",
    "plt.ylabel(\"Accuracy\")\n",
    "plt.legend()\n",
    "plt.show()"
   ]
  },
  {
   "cell_type": "markdown",
   "metadata": {},
   "source": [
    "Although the validation accuracy and the test accuracy become better, this model is still worse than MLP and CNN due to overfitting. It is due to the limited number of training data. If the training data increase, BiLSTM will become better. One possible reason is the missing sentence boundary. A review can consist of multiple sentences. These long sentences hurt the RNN. Usually we can insert a &lt;bos&gt; before a sentence and a &lt;eos&gt; after a sentence. For example, \"I love this hotel. It is silent and clean.\" can be processed as \"&lt;bos&gt; I love this hotel. &lt;eos&gt; &lt;bos&gt; It is silent and clean. &lt;eos&gt;\". This strategy is very useful. You can have a try but do not forget add the two special tokens in the texts when using Word2Vec."
   ]
  },
  {
   "cell_type": "code",
   "execution_count": null,
   "metadata": {},
   "outputs": [],
   "source": []
  }
 ],
 "metadata": {
  "kernelspec": {
   "display_name": "Python 3",
   "language": "python",
   "name": "python3"
  },
  "language_info": {
   "codemirror_mode": {
    "name": "ipython",
    "version": 3
   },
   "file_extension": ".py",
   "mimetype": "text/x-python",
   "name": "python",
   "nbconvert_exporter": "python",
   "pygments_lexer": "ipython3",
   "version": "3.7.9"
  }
 },
 "nbformat": 4,
 "nbformat_minor": 4
}
