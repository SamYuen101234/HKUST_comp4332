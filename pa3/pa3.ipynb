{
 "cells": [
  {
   "cell_type": "code",
   "execution_count": 253,
   "metadata": {
    "id": "N2e5tXdn14cw"
   },
   "outputs": [],
   "source": [
    "from collections import Counter\n",
    "from itertools import combinations\n",
    "from math import sqrt\n",
    "import os\n",
    "os.environ[\"CUDA_VISIBLE_DEVICES\"] = \"0\" #comment out this line if you want to use gpu\n",
    "import random\n",
    "from keras.layers import Concatenate, Dense, Dot, Dropout, Embedding, Input, Reshape\n",
    "from keras.models import Model\n",
    "from keras.callbacks import Callback, ModelCheckpoint\n",
    "import numpy as np\n",
    "import pandas as pd\n",
    "from sklearn.metrics import mean_squared_error\n",
    "from sklearn.preprocessing import StandardScaler\n",
    "import tensorflow\n",
    "from keras.layers.normalization import BatchNormalization\n",
    "import matplotlib.pyplot as plt"
   ]
  },
  {
   "cell_type": "markdown",
   "metadata": {
    "id": "qhZNQ6y614c6"
   },
   "source": [
    "### Set random seed"
   ]
  },
  {
   "cell_type": "code",
   "execution_count": 254,
   "metadata": {
    "id": "dhbM2e0L14c6"
   },
   "outputs": [],
   "source": [
    "import random\n",
    "random.seed(2021)\n",
    "np.random.seed(2021)\n",
    "# tf > 2.0\n",
    "tensorflow.random.set_seed(2021)\n",
    "#tf < 2.0\n",
    "#tf.set_random_seed(2021)"
   ]
  },
  {
   "cell_type": "markdown",
   "metadata": {
    "id": "Bw318PU414c7"
   },
   "source": [
    "### Root Mean Squared Error (RMSE) is used to evaluate the performance of a recommendation algorithm, so we need to define the following utility function to compute the RMSE given the predicted ratings and the ground truth ratings. "
   ]
  },
  {
   "cell_type": "code",
   "execution_count": 255,
   "metadata": {
    "id": "7aDAWKR014c7"
   },
   "outputs": [],
   "source": [
    "'''\n",
    "params:\n",
    "    -pred: an array containing all predicted ratings\n",
    "    -actual: an array containing all ground truth ratings\n",
    "    \n",
    "return:\n",
    "    a scalar whose value is the rmse\n",
    "'''\n",
    "def rmse(pred, actual):\n",
    "    # Ignore ratings with value zero.\n",
    "    pred = pred[actual.nonzero()].flatten()\n",
    "    actual = actual[actual.nonzero()].flatten()\n",
    "    return sqrt(mean_squared_error(pred, actual))"
   ]
  },
  {
   "cell_type": "markdown",
   "metadata": {
    "id": "93FxUoeW14c8"
   },
   "source": [
    "# Implement Wide and Deep Learning (WDL) Model"
   ]
  },
  {
   "cell_type": "markdown",
   "metadata": {
    "id": "DkvNomf214c9"
   },
   "source": [
    "### The wide component is a generalized linear model that takes in the raw input features and the cross-product transformation of categorical features, which enables it to learn the frequent co-occurrence of items or features. \n",
    "\n",
    "### The deep component is a Feed-forward Neural Network (FNN) which takes in both continuous and categorical features as input. Specifically,  the normalized values of continuous features are concatenated with the low-dimensional dense embedding vectors converted from categorical features. This concatenated vector is then fed into the FNN during each foward pass. This mechanism tend to increase the diversity of recommendations."
   ]
  },
  {
   "cell_type": "code",
   "execution_count": 256,
   "metadata": {
    "id": "jkv2q37014c9"
   },
   "outputs": [],
   "source": [
    "'''\n",
    "params:\n",
    "    -len_continuous: number of continuous features\n",
    "    -deep_vocab_lens: an array of integers where deep_vocab_lens[i] represents the number of unique values of (i+1)-th deep \n",
    "        categorical feature\n",
    "    -len_wide: number of wide features\n",
    "    -embed_size: dimension of the embedding vectors of deep categorical features\n",
    "    \n",
    "return:\n",
    "    a keras Model object for the constructed wdl model \n",
    "'''\n",
    "\n",
    "\n",
    "def build_wdl_model(len_continuous, deep_vocab_lens, len_wide, embed_size):\n",
    "    # A list containing all input layers\n",
    "    input_list = []\n",
    "    \n",
    "    # Input layer for continuous features\n",
    "    continuous_input = Input(shape=(len_continuous,), dtype='float32', name='continuous_input')\n",
    "    input_list.append(continuous_input)\n",
    "    \n",
    "    \n",
    "    # Get embeddings for all deep categorical features\n",
    "    emb_list = []\n",
    "    for vocab_size in deep_vocab_lens:\n",
    "        _input = Input(shape=(1,), dtype='int32')\n",
    "        input_list.append(_input)\n",
    "        _emb = Embedding(output_dim=embed_size, input_dim=vocab_size, input_length=1)(_input)\n",
    "        _emb = Reshape((embed_size,))(_emb)\n",
    "        emb_list.append(_emb)\n",
    "    \n",
    "    \n",
    "   \n",
    "    # Create input layer for deep component by concatenating the embeddings and continuous features' input layer\n",
    "    deep_input = Concatenate()(emb_list + [continuous_input])\n",
    "    \n",
    "\n",
    "    # Construct deep component\n",
    "    dense_1 = Dense(256, activation='relu')(deep_input)\n",
    "    dense_1_dp = Dropout(0.3)(dense_1)\n",
    "    dense_2 = Dense(128, activation='relu')(dense_1_dp)\n",
    "    dense_2_dp = Dropout(0.3)(dense_2)\n",
    "    dense_3 = Dense(64, activation='relu')(dense_2_dp)\n",
    "    dense_3_dp = Dropout(0.3)(dense_3)\n",
    "    dense_4 = Dense(64, activation='relu')(dense_3_dp)\n",
    "    dense_4_dp = Dropout(0.3)(dense_4)\n",
    "\n",
    "    \n",
    "    # Create input layer for wide component\n",
    "    wide_input = Input(shape=(len_wide,), dtype='float32')\n",
    "    input_list.append(wide_input)\n",
    "\n",
    "    \n",
    "    # Concatenate the outputs of deep and wide components and feed the \n",
    "    # concatenated vector into the finall fully connected layer\n",
    "    fc_input = Concatenate()([dense_4_dp, wide_input])\n",
    "    model_output = Dense(1)(fc_input)\n",
    "    \n",
    "    model = Model(inputs=input_list,\n",
    "                  outputs=model_output)\n",
    "    return model\n",
    "    "
   ]
  },
  {
   "cell_type": "markdown",
   "metadata": {
    "id": "3_NLelqe14c-"
   },
   "source": [
    "# Utility functions to get the values of different types of features"
   ]
  },
  {
   "cell_type": "markdown",
   "metadata": {
    "id": "hLmbSZWS14c-"
   },
   "source": [
    "### Continuous features"
   ]
  },
  {
   "cell_type": "code",
   "execution_count": 257,
   "metadata": {
    "id": "22tPE3hb14c_"
   },
   "outputs": [],
   "source": [
    "'''\n",
    "params:\n",
    "    -df: input dataframe\n",
    "    -continuous_columns: column names of continuous features\n",
    "    \n",
    "return: \n",
    "    a numpy array where each row contains the values of continuous features in the corresponding row of the\n",
    "    input dataframe\n",
    "'''\n",
    "def get_continuous_features(df, continuous_columns):\n",
    "    continuous_features = df[continuous_columns].values\n",
    "    return continuous_features"
   ]
  },
  {
   "cell_type": "markdown",
   "metadata": {
    "id": "GOzNfuAI14c_"
   },
   "source": [
    "### Cross product transformation of categorical features"
   ]
  },
  {
   "cell_type": "code",
   "execution_count": 258,
   "metadata": {
    "id": "gVUU54hC14c_"
   },
   "outputs": [],
   "source": [
    "'''\n",
    "params:\n",
    "    -df: input dataframe\n",
    "    -comb_p: number of elements in each combination (e.g., there are two elements in the combination {fried chicken, chicken and \n",
    "    waffle}, and three elements in the combination {fried chicken, chicken and waffle, chicken fried rice})\n",
    "    -topk: number of mostly frequent combinations to retrieve\n",
    "    -output_freq: whether to return the frequencies of retrieved combinations\n",
    "    \n",
    "return:\n",
    "    1. output_freq = True: a list X where each element is a tuple containing a combinantion tuple and corresponding frequency, and the \n",
    "        elements are stored in the descending order of their frequencies\n",
    "    2. output_freq = False: a list X where each element is a tuple containing a combinantion tuple, and the elements are stored in \n",
    "    the descending order of their frequencies\n",
    "'''\n",
    "def get_top_k_p_combinations(df, comb_p, topk, output_freq=False):\n",
    "    # get all combinations with comb_p\n",
    "    def get_category_combinations(categories_str, comb_p=2):\n",
    "        categories = categories_str.split(', ')\n",
    "        return list(combinations(categories, comb_p))\n",
    "    # [('Lounges', 'Dance Clubs'), ('Lounges', 'Bars'), ('Lounges', 'Nightlife'), ('Dance Clubs', 'Bars'), ('Dance Clubs', 'Nightlife'), ('Bars', 'Nightlife')]\n",
    "    all_categories_p_combos = df[\"item_categories\"].apply(\n",
    "        lambda x: get_category_combinations(x, comb_p)).values.tolist()\n",
    "    # ('Lounges', 'Dance Clubs')\n",
    "    # list of tuples that each index refer to one combination\n",
    "    all_categories_p_combos = [tuple(t) for item in all_categories_p_combos for t in item]\n",
    "\n",
    "    tmp = dict(Counter(all_categories_p_combos))\n",
    "    sorted_categories_combinations = list(sorted(tmp.items(), key=lambda x: x[1], reverse=True))\n",
    "    if output_freq:\n",
    "        return sorted_categories_combinations[:topk]\n",
    "    else:\n",
    "        return [t[0] for t in sorted_categories_combinations[:topk]]"
   ]
  },
  {
   "cell_type": "markdown",
   "metadata": {
    "id": "en3CJq3314dA"
   },
   "source": [
    "### Wide features"
   ]
  },
  {
   "cell_type": "code",
   "execution_count": 259,
   "metadata": {
    "id": "zWnDKtFk14dB"
   },
   "outputs": [],
   "source": [
    "'''\n",
    "params:\n",
    "    -df: input dataframe\n",
    "    -selected_categories_to_idx: a dictionary mapping item categories to corrresponding integral indices\n",
    "    -top_combinations: a list containing retrieved mostly frequent combinantions of item categories\n",
    "    \n",
    "return:\n",
    "    a numpy array where each row contains the categorical features' binary encodings and cross product\n",
    "    transformations for the corresponding row of the input dataframe\n",
    "'''\n",
    "\n",
    "def get_wide_features(df, selected_categories_to_idx, top_combinations):\n",
    "    def categories_to_binary_output(categories):\n",
    "        binary_output = [0 for _ in range(len(selected_categories_to_idx))]\n",
    "        for category in categories.split(', '):\n",
    "            if category in selected_categories_to_idx:\n",
    "                binary_output[selected_categories_to_idx[category]] = 1\n",
    "            else:\n",
    "                binary_output[0] = 1\n",
    "        return binary_output\n",
    "    def categories_cross_transformation(categories):\n",
    "        current_category_set = set(categories.split(', '))\n",
    "        corss_transform_output = [0 for _ in range(len(top_combinations))]\n",
    "        for k, comb_k in enumerate(top_combinations):\n",
    "            if len(current_category_set & comb_k) == len(comb_k):\n",
    "                corss_transform_output[k] = 1\n",
    "            else:\n",
    "                corss_transform_output[k] = 0\n",
    "        return corss_transform_output\n",
    "\n",
    "    category_binary_features = np.array(df.item_categories.apply(\n",
    "        lambda x: categories_to_binary_output(x)).values.tolist())\n",
    "    print('category_binary_features shape:',category_binary_features.shape)\n",
    "    category_corss_transform_features = np.array(df.item_categories.apply(\n",
    "        lambda x: categories_cross_transformation(x)).values.tolist())\n",
    "    print('category_cross_features shape:',category_corss_transform_features.shape)\n",
    "    out = np.concatenate((category_binary_features, category_corss_transform_features), axis=1)\n",
    "    print('wide features shape:',out.shape)\n",
    "    return np.concatenate((category_binary_features, category_corss_transform_features), axis=1)\n"
   ]
  },
  {
   "cell_type": "markdown",
   "metadata": {
    "id": "C7X9jjb-14dB"
   },
   "source": [
    "# Rating Prediction"
   ]
  },
  {
   "cell_type": "markdown",
   "metadata": {
    "id": "No4tbX3V14dC"
   },
   "source": [
    "### Load train, validation and test rating tables"
   ]
  },
  {
   "cell_type": "code",
   "execution_count": 260,
   "metadata": {
    "id": "N_kz9p3l14dC"
   },
   "outputs": [],
   "source": [
    "tr_df = pd.read_csv(\"data/train.csv\")\n",
    "val_df = pd.read_csv(\"data/valid.csv\")\n",
    "te_df = pd.read_csv(\"data/test.csv\")\n",
    "\n",
    "tr_ratings = tr_df.stars.values\n",
    "val_ratings = val_df.stars.values"
   ]
  },
  {
   "cell_type": "code",
   "execution_count": 308,
   "metadata": {},
   "outputs": [
    {
     "name": "stdout",
     "output_type": "stream",
     "text": [
      "{4.0: 21310, 5.0: 20563, 3.0: 10472, 2.0: 4838, 1.0: 2897}\n"
     ]
    },
    {
     "data": {
      "image/png": "[encoded data removed]",
      "text/plain": [
       "<Figure size 720x360 with 1 Axes>"
      ]
     },
     "metadata": {
      "needs_background": "light"
     },
     "output_type": "display_data"
    }
   ],
   "source": [
    "data = dict(tr_df['stars'].value_counts())\n",
    "print(data)\n",
    "stars = list(data.keys())\n",
    "values = list(data.values())\n",
    "\n",
    "  \n",
    "fig = plt.figure(figsize = (10, 5))\n",
    " \n",
    "# creating the bar plot\n",
    "plt.bar(stars, values, color ='blue',\n",
    "        width = 0.4)\n",
    " \n",
    "plt.xlabel(\"stars\")\n",
    "plt.ylabel(\"Number\")\n",
    "plt.title(\"Number of stars\")\n",
    "plt.savefig('stars.png')\n",
    "plt.show()"
   ]
  },
  {
   "cell_type": "code",
   "execution_count": 379,
   "metadata": {},
   "outputs": [],
   "source": [
    "temp_df = tr_df[['business_id', 'stars']].groupby(['business_id']).agg(['mean', 'count']).sort_values(by=[('stars', 'count')], ascending=False)"
   ]
  },
  {
   "cell_type": "code",
   "execution_count": 419,
   "metadata": {},
   "outputs": [
    {
     "data": {
      "text/html": [
       "<div>\n",
       "<style scoped>\n",
       "    .dataframe tbody tr th:only-of-type {\n",
       "        vertical-align: middle;\n",
       "    }\n",
       "\n",
       "    .dataframe tbody tr th {\n",
       "        vertical-align: top;\n",
       "    }\n",
       "\n",
       "    .dataframe thead tr th {\n",
       "        text-align: left;\n",
       "    }\n",
       "\n",
       "    .dataframe thead tr:last-of-type th {\n",
       "        text-align: right;\n",
       "    }\n",
       "</style>\n",
       "<table border=\"1\" class=\"dataframe\">\n",
       "  <thead>\n",
       "    <tr>\n",
       "      <th></th>\n",
       "      <th colspan=\"2\" halign=\"left\">stars</th>\n",
       "    </tr>\n",
       "    <tr>\n",
       "      <th></th>\n",
       "      <th>mean</th>\n",
       "      <th>count</th>\n",
       "    </tr>\n",
       "    <tr>\n",
       "      <th>business_id</th>\n",
       "      <th></th>\n",
       "      <th></th>\n",
       "    </tr>\n",
       "  </thead>\n",
       "  <tbody>\n",
       "    <tr>\n",
       "      <th>a872871042c5c46838a1ba924dab1f6c</th>\n",
       "      <td>3.578947</td>\n",
       "      <td>114</td>\n",
       "    </tr>\n",
       "    <tr>\n",
       "      <th>fd37fd10d66b673df363b646a26c9ab3</th>\n",
       "      <td>4.180952</td>\n",
       "      <td>105</td>\n",
       "    </tr>\n",
       "    <tr>\n",
       "      <th>a3e891f8e82805513255e0e0fb1dafa8</th>\n",
       "      <td>4.215190</td>\n",
       "      <td>79</td>\n",
       "    </tr>\n",
       "    <tr>\n",
       "      <th>fad6b81d65ddf84ca3830955aa1cb4c7</th>\n",
       "      <td>3.810811</td>\n",
       "      <td>74</td>\n",
       "    </tr>\n",
       "    <tr>\n",
       "      <th>f441407637e366ac9dbadc249f6241bb</th>\n",
       "      <td>3.859155</td>\n",
       "      <td>71</td>\n",
       "    </tr>\n",
       "    <tr>\n",
       "      <th>...</th>\n",
       "      <td>...</td>\n",
       "      <td>...</td>\n",
       "    </tr>\n",
       "    <tr>\n",
       "      <th>7f3e83d10a8783bb14432f41f4b4523b</th>\n",
       "      <td>4.000000</td>\n",
       "      <td>1</td>\n",
       "    </tr>\n",
       "    <tr>\n",
       "      <th>e12df5f4d2e7d26f4e4f5f365ec78011</th>\n",
       "      <td>5.000000</td>\n",
       "      <td>1</td>\n",
       "    </tr>\n",
       "    <tr>\n",
       "      <th>2947f860e1259657ce3d83a4cd8669f4</th>\n",
       "      <td>5.000000</td>\n",
       "      <td>1</td>\n",
       "    </tr>\n",
       "    <tr>\n",
       "      <th>bce2a9cf1f34e6cd072f02d6eb0a8e67</th>\n",
       "      <td>3.000000</td>\n",
       "      <td>1</td>\n",
       "    </tr>\n",
       "    <tr>\n",
       "      <th>3ced7918e9c1429e5c7532cb7b9d99e1</th>\n",
       "      <td>5.000000</td>\n",
       "      <td>1</td>\n",
       "    </tr>\n",
       "  </tbody>\n",
       "</table>\n",
       "<p>5937 rows × 2 columns</p>\n",
       "</div>"
      ],
      "text/plain": [
       "                                     stars      \n",
       "                                      mean count\n",
       "business_id                                     \n",
       "a872871042c5c46838a1ba924dab1f6c  3.578947   114\n",
       "fd37fd10d66b673df363b646a26c9ab3  4.180952   105\n",
       "a3e891f8e82805513255e0e0fb1dafa8  4.215190    79\n",
       "fad6b81d65ddf84ca3830955aa1cb4c7  3.810811    74\n",
       "f441407637e366ac9dbadc249f6241bb  3.859155    71\n",
       "...                                    ...   ...\n",
       "7f3e83d10a8783bb14432f41f4b4523b  4.000000     1\n",
       "e12df5f4d2e7d26f4e4f5f365ec78011  5.000000     1\n",
       "2947f860e1259657ce3d83a4cd8669f4  5.000000     1\n",
       "bce2a9cf1f34e6cd072f02d6eb0a8e67  3.000000     1\n",
       "3ced7918e9c1429e5c7532cb7b9d99e1  5.000000     1\n",
       "\n",
       "[5937 rows x 2 columns]"
      ]
     },
     "execution_count": 419,
     "metadata": {},
     "output_type": "execute_result"
    }
   ],
   "source": [
    "temp_df"
   ]
  },
  {
   "cell_type": "code",
   "execution_count": 396,
   "metadata": {},
   "outputs": [
    {
     "data": {
      "text/plain": [
       "array(['a872871042c5c46838a1ba924dab1f6c',\n",
       "       'fd37fd10d66b673df363b646a26c9ab3',\n",
       "       'a3e891f8e82805513255e0e0fb1dafa8',\n",
       "       'fad6b81d65ddf84ca3830955aa1cb4c7',\n",
       "       'f441407637e366ac9dbadc249f6241bb',\n",
       "       '91800fad6f001230fb7605058a360795',\n",
       "       '918191ea9d67f9f664a111dbce971237',\n",
       "       '5c998666292d0eb282a3d2b61303e3c4',\n",
       "       'e07b64d4162dca6e974024978802110f',\n",
       "       'a89bc7d8407d04163f9f60533cbd4bf0'], dtype=object)"
      ]
     },
     "execution_count": 396,
     "metadata": {},
     "output_type": "execute_result"
    }
   ],
   "source": []
  },
  {
   "cell_type": "code",
   "execution_count": 415,
   "metadata": {},
   "outputs": [
    {
     "data": {
      "image/png": "[encoded data removed]",
      "text/plain": [
       "<Figure size 432x288 with 1 Axes>"
      ]
     },
     "metadata": {
      "needs_background": "light"
     },
     "output_type": "display_data"
    }
   ],
   "source": [
    "# creating the bar plot\n",
    "plt.bar(temp_df.iloc[:10,:].index.values, temp_df.iloc[:10,:][('stars', 'count')], color ='blue',\n",
    "        width = 0.4)\n",
    " \n",
    "plt.xlabel(\"business_id\")\n",
    "plt.xticks(rotation=90)\n",
    "plt.ylabel(\"total_stars\")\n",
    "plt.title(\"Total stars of the top 10 bussiness_id\")\n",
    "plt.savefig('stars2.png', dpi=10)\n",
    "plt.show()"
   ]
  },
  {
   "cell_type": "code",
   "execution_count": 388,
   "metadata": {},
   "outputs": [
    {
     "name": "stdout",
     "output_type": "stream",
     "text": [
      "['a872871042c5c46838a1ba924dab1f6c' 'fd37fd10d66b673df363b646a26c9ab3'\n",
      " 'a3e891f8e82805513255e0e0fb1dafa8' 'fad6b81d65ddf84ca3830955aa1cb4c7'\n",
      " 'f441407637e366ac9dbadc249f6241bb' '91800fad6f001230fb7605058a360795'\n",
      " '918191ea9d67f9f664a111dbce971237' '5c998666292d0eb282a3d2b61303e3c4'\n",
      " 'e07b64d4162dca6e974024978802110f' 'a89bc7d8407d04163f9f60533cbd4bf0']\n",
      "business_id\n",
      "a872871042c5c46838a1ba924dab1f6c    114\n",
      "fd37fd10d66b673df363b646a26c9ab3    105\n",
      "a3e891f8e82805513255e0e0fb1dafa8     79\n",
      "fad6b81d65ddf84ca3830955aa1cb4c7     74\n",
      "f441407637e366ac9dbadc249f6241bb     71\n",
      "91800fad6f001230fb7605058a360795     70\n",
      "918191ea9d67f9f664a111dbce971237     70\n",
      "5c998666292d0eb282a3d2b61303e3c4     69\n",
      "e07b64d4162dca6e974024978802110f     69\n",
      "a89bc7d8407d04163f9f60533cbd4bf0     68\n",
      "Name: (stars, count), dtype: int64\n"
     ]
    }
   ],
   "source": []
  },
  {
   "cell_type": "code",
   "execution_count": 334,
   "metadata": {},
   "outputs": [
    {
     "data": {
      "text/plain": [
       "business_id\n",
       "000d15dc50333655adef063db437888c    3.571429\n",
       "001bcf6d457dadb09e751b843f9ad028    4.333333\n",
       "001c90e087a2f1ebb3a90635b34ddd91    3.500000\n",
       "002d081701fac4a762b9c262f7fce137    4.750000\n",
       "002dbb0d07f9d9f99d03dda52cebd8a2    4.333333\n",
       "                                      ...   \n",
       "ffc5d8ce39cca330c1dc577caa0011b9    3.727273\n",
       "ffcabb30f80720d52dc01ae35b269dcc    4.285714\n",
       "ffe237e15fa9bc53bad7224ac5c3f808    5.000000\n",
       "ffe3f7c65732b15e00551d81744e787d    4.142857\n",
       "fffc79b331d27270d4f1f927c3163e8d    3.800000\n",
       "Name: (stars, mean), Length: 5937, dtype: float64"
      ]
     },
     "metadata": {},
     "output_type": "display_data"
    }
   ],
   "source": [
    "pd.DataFrame(temp_df[('stars', 'mean')], columns=['buiness_id',]"
   ]
  },
  {
   "cell_type": "markdown",
   "metadata": {
    "id": "_Zu_5NhL14dC"
   },
   "source": [
    "### Load content feautures tables of users and items"
   ]
  },
  {
   "cell_type": "code",
   "execution_count": 261,
   "metadata": {
    "id": "rifg-gZR14dD"
   },
   "outputs": [],
   "source": [
    "user_df = pd.read_csv(\"data/user.csv\")\n",
    "item_df = pd.read_csv(\"data/business.csv\")\n",
    "\n",
    "# Rename some columns of dfs and convert the indices of dfs into string type for easier reference in later stage \n",
    "user_df = user_df.rename(index=str, columns={t: 'user_' + t for t in user_df.columns if t != 'user_id'})\n",
    "item_df = item_df.rename(index=str, columns={t: 'item_' + t for t in item_df.columns if t != 'business_id'})\n"
   ]
  },
  {
   "cell_type": "markdown",
   "metadata": {
    "id": "ZmasvlJR14dD"
   },
   "source": [
    "### Associate each row in the rating tables with corresponding user's and item's content features through merging the rating tables and content features tables"
   ]
  },
  {
   "cell_type": "code",
   "execution_count": 262,
   "metadata": {
    "id": "bEqXo9Ud14dD"
   },
   "outputs": [],
   "source": [
    "# Save the original row indices of each rating table\n",
    "tr_df[\"index\"] = tr_df.index\n",
    "val_df[\"index\"]  = val_df.index\n",
    "te_df[\"index\"] = te_df.index\n",
    "\n",
    "tr_df = pd.merge(pd.merge(tr_df, user_df, on='user_id'), item_df, on='business_id').sort_values(by=['index']).reset_index(drop=True)\n",
    "val_df = pd.merge(pd.merge(val_df, user_df, on='user_id'), item_df, on='business_id').sort_values(by=['index']).reset_index(drop=True)\n",
    "te_df = pd.merge(pd.merge(te_df, user_df, on='user_id'), item_df, on='business_id').sort_values(by=['index']).reset_index(drop=True)"
   ]
  },
  {
   "cell_type": "code",
   "execution_count": 263,
   "metadata": {
    "id": "zSmKU2D0Fcww"
   },
   "outputs": [],
   "source": [
    "import pandas as pd\n",
    "import ast\n",
    "import math\n",
    "\n",
    "def isnan(value):\n",
    "  try:\n",
    "      return math.isnan(float(value))\n",
    "  except:\n",
    "      return False\n",
    "  \n",
    "def convert_value(value):\n",
    "  if value == \"None\":\n",
    "    return None\n",
    "  if isinstance(value, bool):\n",
    "    return 1 if value else 0\n",
    "  if value.isdecimal():\n",
    "    return float(value)\n",
    "  if value == \"yes\":\n",
    "    return 1\n",
    "  if value == \"no\":\n",
    "    return 0\n",
    "  return value\n",
    "\n",
    "def expand_json_column(df, attributes): \n",
    "  for attribute in attributes:\n",
    "    list_dict = []\n",
    "    for i,dict_str in enumerate(df[attribute]):\n",
    "\n",
    "      # check for nan\n",
    "      if not isnan(dict_str):\n",
    "        dict_str = dict_str.replace('\"','').replace(\"'False'\",\"False\").replace(\"'True'\",\"True\")\n",
    "        temp_dict = ast.literal_eval(dict_str)\n",
    "\n",
    "        temptemp_dict = {}\n",
    "        for k, v in temp_dict.items():\n",
    "          # print(k, v)\n",
    "          if isinstance(v, dict):\n",
    "            for k1, v1 in v.items():\n",
    "              value = convert_value(v1)\n",
    "              if value:\n",
    "                temptemp_dict[f\"{k}_{k1}\"] = value\n",
    "          else:\n",
    "            value = convert_value(v)\n",
    "            if value:\n",
    "              temptemp_dict[k] = value\n",
    "        \n",
    "        list_dict.append(temptemp_dict)\n",
    "\n",
    "    new_df = pd.DataFrame(list_dict)\n",
    "    df = df.join(new_df, lsuffix='_caller', rsuffix='_other')\n",
    "\n",
    "  return df\n",
    "\n",
    "def expand_list_column(df, attributes):\n",
    "  for attribute in attributes:\n",
    "    list_dict = []\n",
    "    for i,list_str in enumerate(df[attribute]):\n",
    "\n",
    "       # check for nan\n",
    "      if not isnan(list_str):\n",
    "\n",
    "        temp_dict = {}\n",
    "        \n",
    "        for key in list_str.split(','):\n",
    "          temp_dict[key] = 1\n",
    "      list_dict.append(temp_dict)\n",
    "\n",
    "    new_df = pd.DataFrame(list_dict)\n",
    "    df = df.join(new_df, lsuffix='_caller', rsuffix='_other')\n",
    "  return df"
   ]
  },
  {
   "cell_type": "code",
   "execution_count": 264,
   "metadata": {
    "id": "fN7kfRaSL7Ve"
   },
   "outputs": [],
   "source": [
    "tr_df = expand_json_column(tr_df,[\"item_attributes\"])\n",
    "val_df = expand_json_column(val_df,[\"item_attributes\"])\n",
    "te_df = expand_json_column(te_df,[\"item_attributes\"])"
   ]
  },
  {
   "cell_type": "code",
   "execution_count": 265,
   "metadata": {},
   "outputs": [],
   "source": [
    "# add columns and reorder the columns in val and test\n",
    "new_columns = ['HairSpecializesIn_kids', 'HairSpecializesIn_straightperms', 'HairSpecializesIn_perms', 'HairSpecializesIn_asian']\n",
    "new_data = np.zeros((int(len(val_df)), int(len(new_columns))))\n",
    "new_val = pd.DataFrame(new_data, columns = new_columns)\n",
    "val_df = pd.concat((val_df, new_val), axis=1)\n",
    "val_df = val_df[tr_df.columns]\n",
    "te_df = te_df[tr_df.columns]"
   ]
  },
  {
   "cell_type": "markdown",
   "metadata": {},
   "source": [
    "### Construct new train data"
   ]
  },
  {
   "cell_type": "code",
   "execution_count": 266,
   "metadata": {},
   "outputs": [],
   "source": [
    "### remove the columns with too low frequency\n",
    "for column in tr_df.iloc[:,97:]:\n",
    "    tr_df = tr_df.drop([column], axis=1)\n",
    "    \n",
    "for column in tr_df.iloc[:,39:97]:\n",
    "    #print(tr_df[column].unique())\n",
    "    if len(tr_df[column].unique()) < 3:\n",
    "        tr_df[column] = tr_df[column].fillna(0)\n",
    "    else:\n",
    "        tr_df[column] = tr_df[column].fillna('Nan')\n",
    "    #print(tr_df[column].value_counts())\n",
    "\n",
    "for column in tr_df.iloc[:,39:97]:\n",
    "    if len(tr_df[column].unique()) > 2:\n",
    "        tr_df = pd.concat([tr_df, pd.get_dummies(tr_df[column], prefix=column)], axis=1)\n",
    "        tr_df = tr_df.drop([column],axis=1)"
   ]
  },
  {
   "cell_type": "markdown",
   "metadata": {},
   "source": [
    "### Construct new valid data"
   ]
  },
  {
   "cell_type": "code",
   "execution_count": 267,
   "metadata": {},
   "outputs": [],
   "source": [
    "### remove the columns with too low frequency\n",
    "for column in val_df.iloc[:,97:]:\n",
    "    val_df = val_df.drop([column], axis=1)\n",
    "    \n",
    "for column in val_df.iloc[:,39:97]:\n",
    "    #print(val_df[column].unique())\n",
    "    if len(val_df[column].unique()) < 3:\n",
    "        val_df[column] = val_df[column].fillna(0)\n",
    "    else:\n",
    "        val_df[column] = val_df[column].fillna('Nan')\n",
    "    #print(val_df[column].value_counts())\n",
    "\n",
    "for column in val_df.iloc[:,39:97]:\n",
    "    if len(val_df[column].unique()) > 2:\n",
    "        val_df = pd.concat([val_df, pd.get_dummies(val_df[column], prefix=column)], axis=1)\n",
    "        val_df = val_df.drop([column],axis=1)"
   ]
  },
  {
   "cell_type": "markdown",
   "metadata": {},
   "source": [
    "### Construct new test data"
   ]
  },
  {
   "cell_type": "code",
   "execution_count": 268,
   "metadata": {},
   "outputs": [],
   "source": [
    "### remove the columns with too low frequency\n",
    "for column in te_df.iloc[:,97:]:\n",
    "    te_df = te_df.drop([column], axis=1)\n",
    "    \n",
    "for column in te_df.iloc[:,39:97]:\n",
    "    #print(val_df[column].unique())\n",
    "    if len(te_df[column].unique()) < 3:\n",
    "        te_df[column] = te_df[column].fillna(0)\n",
    "    else:\n",
    "        te_df[column] = te_df[column].fillna('Nan')\n",
    "    #print(val_df[column].value_counts())\n",
    "\n",
    "for column in te_df.iloc[:,39:97]:\n",
    "    if len(te_df[column].unique()) > 2:\n",
    "        te_df = pd.concat([te_df, pd.get_dummies(te_df[column], prefix=column)], axis=1)\n",
    "        te_df = te_df.drop([column],axis=1)"
   ]
  },
  {
   "cell_type": "markdown",
   "metadata": {
    "id": "2cXm8MtN14dD"
   },
   "source": [
    "### Prepare continuous features"
   ]
  },
  {
   "cell_type": "code",
   "execution_count": 269,
   "metadata": {
    "id": "DL_pVoN814dE"
   },
   "outputs": [],
   "source": [
    "# Specify the columns containing conitnuous features\n",
    "continuous_columns = [\"user_average_stars\", \"user_cool\", \"user_fans\", \n",
    "                      \"user_review_count\", \"user_useful\", \"user_funny\",\n",
    "                      \"item_is_open\", \"item_latitude\", \"item_longitude\", \n",
    "                      \"item_review_count\", \"item_stars\"]\n",
    "\n",
    "# Get values of continous features for train/validation/test sets using the utility function defined previously\n",
    "\n",
    "tr_continuous_features = get_continuous_features(tr_df, continuous_columns)\n",
    "val_continuous_features = get_continuous_features(val_df, continuous_columns)\n",
    "te_continuous_features = get_continuous_features(te_df, continuous_columns)\n",
    "\n",
    "# Standardize each feature by removing the mean of the training samples and scaling to unit variance.\n",
    "# See https://scikit-learn.org/stable/modules/generated/sklearn.preprocessing.StandardScaler.html for more details.\n",
    "scaler = StandardScaler().fit(tr_continuous_features)\n",
    "\n",
    "tr_continuous_features = scaler.transform(tr_continuous_features)\n",
    "val_continuous_features = scaler.transform(val_continuous_features)\n",
    "te_continuous_features = scaler.transform(te_continuous_features)"
   ]
  },
  {
   "cell_type": "markdown",
   "metadata": {
    "id": "CyW1JiF914dE"
   },
   "source": [
    "### Prepare deep categorical features"
   ]
  },
  {
   "cell_type": "code",
   "execution_count": 270,
   "metadata": {
    "id": "yyJfD2Nv14dE"
   },
   "outputs": [],
   "source": [
    "# Sepcify column names of deep categorical features\n",
    "item_deep_columns = [\"item_city\", \"item_postal_code\", \"item_state\"]\n",
    "new_item_deep_columns = item_deep_columns #+ list(tr_df.iloc[:,39:].columns)\n",
    "\n",
    "# An array of integers where deep_vocab_lens[i] represents the number of unique values of (i+1)-th deep categorical feature\n",
    "item_deep_vocab_lens = []\n",
    "\n",
    "for col_name in new_item_deep_columns:\n",
    "    # Get all unique values of this deep categorical feature\n",
    "    try:\n",
    "        tmp = item_df[col_name].unique()\n",
    "    except:\n",
    "        tep = tr_df.iloc[:,39:][col_name].unique()\n",
    "    \n",
    "    # Create a dictionary mapping each unique value to a unique integral index\n",
    "    vocab = dict(zip(tmp, range(1, len(tmp) + 1)))\n",
    "    # Get the number of unique values of this deep categorical features\n",
    "    item_deep_vocab_lens.append(len(vocab) + 1)\n",
    "    \n",
    "    # Create a new column where each entry stores the integral index of this deep categorical feature's value in the same row\n",
    "    try:\n",
    "        item_df[col_name + \"_idx\"] = item_df[col_name].apply(lambda x: vocab[x])\n",
    "    except:\n",
    "        pass\n",
    "\n",
    "# Create a dictionary mapping each business id to corresponding values of deep categorical features\n",
    "item_deep_idx_columns = [t + \"_idx\" for t in item_deep_columns]\n",
    "item_to_deep_categorical_features = dict(zip(item_df.business_id.values, item_df[item_deep_idx_columns].values.tolist()))\n",
    "\n",
    "# Creat numpy arrays storing corresponding deep categorical features' values of train/validation/test sets using the above mapping\n",
    "tr_deep_categorical_features = np.array(tr_df.business_id.apply(lambda x: item_to_deep_categorical_features[x]).values.tolist())\n",
    "val_deep_categorical_features = np.array(val_df.business_id.apply(lambda x: item_to_deep_categorical_features[x]).values.tolist())\n",
    "te_deep_categorical_features = np.array(te_df.business_id.apply(lambda x: item_to_deep_categorical_features[x]).values.tolist())"
   ]
  },
  {
   "cell_type": "code",
   "execution_count": 271,
   "metadata": {},
   "outputs": [],
   "source": [
    "#tr_deep_categorical_features = np.concatenate((tr_deep_categorical_features, tr_df.iloc[:,39:].to_numpy()), axis=1)\n",
    "#val_deep_categorical_features = np.concatenate((val_deep_categorical_features, val_df.iloc[:,39:].to_numpy()), axis=1)\n",
    "#te_deep_categorical_features = np.concatenate((te_deep_categorical_features, te_df.iloc[:,39:].to_numpy()), axis=1)"
   ]
  },
  {
   "cell_type": "markdown",
   "metadata": {
    "id": "sp0IcNRP14dF"
   },
   "source": [
    "### Prepare wide features"
   ]
  },
  {
   "cell_type": "markdown",
   "metadata": {
    "id": "VM575OBf14dF"
   },
   "source": [
    "##### Prepare binary encoding for each selected category"
   ]
  },
  {
   "cell_type": "code",
   "execution_count": 272,
   "metadata": {
    "id": "t4Uv3Nfh14dF"
   },
   "outputs": [],
   "source": [
    "# Collect the categories of all items \n",
    "all_categories = [category for category_list in item_df.item_categories.values for category in category_list.split(\", \")]\n",
    "\n",
    "# Sort all unique values of the item categories by their frequencies in descending order\n",
    "category_sorted = sorted(Counter(all_categories).items(), key=lambda x: x[1], reverse=True)\n",
    "\n",
    "# Select top 500 most frequent categories\n",
    "selected_categories = [t[0] for t in category_sorted[:500]]\n",
    "\n",
    "# Create a dictionary mapping each secleted category to a unique integral index\n",
    "selected_categories_to_idx = dict(zip(selected_categories, range(1, len(selected_categories) + 1)))\n",
    "\n",
    "# Map all categories unseen in the item df to index 0\n",
    "selected_categories_to_idx['unk'] = 0\n",
    "\n",
    "# Create a dictionary mapping each integral index to corresponding category\n",
    "idx_to_selected_categories = {val: key for key, val in selected_categories_to_idx.items()}\n"
   ]
  },
  {
   "cell_type": "markdown",
   "metadata": {
    "id": "mfGNaM3u14dF"
   },
   "source": [
    "##### Prepare cross product transformation for categories"
   ]
  },
  {
   "cell_type": "code",
   "execution_count": 273,
   "metadata": {
    "id": "3qsCL1AM14dF"
   },
   "outputs": [],
   "source": [
    "# Get most frequent categories combinantions using the utility function defined previously and store them in the folloing list\n",
    "top_combinations = []\n",
    "\n",
    "# Get top 50 most frequent two-categories combinantions in the train set\n",
    "\n",
    "top_combinations += get_top_k_p_combinations(tr_df, 2, 50, output_freq=False)\n",
    "\n",
    "# Get top 30 most frequent three-categories combinantions in the train set\n",
    "top_combinations += get_top_k_p_combinations(tr_df, 3, 30, output_freq=False)\n",
    "\n",
    "# Get top 20 most frequent four-categories combinantions in the train set\n",
    "top_combinations += get_top_k_p_combinations(tr_df, 4, 20, output_freq=False)\n",
    "\n",
    "# Convert each combinantion in the list to a set data structure\n",
    "top_combinations = [set(t) for t in top_combinations]"
   ]
  },
  {
   "cell_type": "code",
   "execution_count": 274,
   "metadata": {
    "id": "F_eG7KER14dG",
    "outputId": "9fe54f0e-1bef-49e4-f98a-4c6c5294900a"
   },
   "outputs": [
    {
     "name": "stdout",
     "output_type": "stream",
     "text": [
      "category_binary_features shape: (60080, 501)\n",
      "category_cross_features shape: (60080, 100)\n",
      "wide features shape: (60080, 601)\n",
      "category_binary_features shape: (7510, 501)\n",
      "category_cross_features shape: (7510, 100)\n",
      "wide features shape: (7510, 601)\n",
      "category_binary_features shape: (7510, 501)\n",
      "category_cross_features shape: (7510, 100)\n",
      "wide features shape: (7510, 601)\n"
     ]
    }
   ],
   "source": [
    "# Get values of wide features for train/validation/test sets using the utility function defined previously\n",
    "\n",
    "tr_wide_features = get_wide_features(tr_df, selected_categories_to_idx, top_combinations)\n",
    "val_wide_features = get_wide_features(val_df, selected_categories_to_idx, top_combinations)\n",
    "te_wide_features = get_wide_features(te_df, selected_categories_to_idx, top_combinations)"
   ]
  },
  {
   "cell_type": "markdown",
   "metadata": {
    "id": "RDnp76Gi14dG"
   },
   "source": [
    "### Build the input list for each of the train/validation/test sets through aggregating all continuous, deep categorical and wide features\n"
   ]
  },
  {
   "cell_type": "code",
   "execution_count": 275,
   "metadata": {
    "colab": {
     "base_uri": "https://localhost:8080/",
     "height": 232
    },
    "id": "E8TCj6OT14dG",
    "outputId": "a84adb3d-876c-4258-a702-ca1b0aadd11d"
   },
   "outputs": [],
   "source": [
    "# tr_features = [tr_continuous_features,categorical_features_0,categorical_features_1,categorical_features_2,tr_wide_features]\n",
    "tr_features = []\n",
    "tr_features.append(tr_continuous_features)\n",
    "tr_features += [tr_deep_categorical_features[:,i] for i in range(tr_deep_categorical_features.shape[1])]\n",
    "tr_features.append(tr_wide_features)\n",
    "\n",
    "val_features = []\n",
    "val_features.append(val_continuous_features)\n",
    "val_features += [val_deep_categorical_features[:,i] for i in range(val_deep_categorical_features.shape[1])]\n",
    "val_features.append(val_wide_features)\n",
    "\n",
    "te_features = []\n",
    "te_features.append(te_continuous_features)\n",
    "te_features += [te_deep_categorical_features[:,i] for i in range(te_deep_categorical_features.shape[1])]\n",
    "te_features.append(te_wide_features)"
   ]
  },
  {
   "cell_type": "markdown",
   "metadata": {
    "id": "DMurCSZ114dG"
   },
   "source": [
    "### Build the WDL model defined above"
   ]
  },
  {
   "cell_type": "code",
   "execution_count": 289,
   "metadata": {
    "id": "lBd3MPIS14dH"
   },
   "outputs": [],
   "source": [
    "wdl_model = build_wdl_model(\n",
    "        len(tr_continuous_features[0]),\n",
    "        item_deep_vocab_lens,   # num of category classes\n",
    "        len(tr_wide_features[0]), \n",
    "        embed_size=128)\n",
    "#print(len(tr_continuous_features[0]))\n",
    "#print(item_deep_vocab_lens)\n",
    "#print(len(tr_wide_features[0]))"
   ]
  },
  {
   "cell_type": "markdown",
   "metadata": {
    "id": "sfh0yJ4D14dH"
   },
   "source": [
    "### Train the model using Adagrad optimizer and mean squared error loss"
   ]
  },
  {
   "cell_type": "code",
   "execution_count": 290,
   "metadata": {
    "id": "RsN0iHhq14dH",
    "outputId": "1f8d7a31-ea1b-425e-926a-65bc6ac4738d"
   },
   "outputs": [
    {
     "name": "stdout",
     "output_type": "stream",
     "text": [
      "Epoch 1/20\n",
      "939/939 [==============================] - 2s 2ms/step - loss: 2.0111 - val_loss: 1.0253\n",
      "Epoch 2/20\n",
      "939/939 [==============================] - 2s 2ms/step - loss: 1.1098 - val_loss: 1.0116\n",
      "Epoch 3/20\n",
      "939/939 [==============================] - 2s 2ms/step - loss: 1.0646 - val_loss: 1.0129\n",
      "Epoch 4/20\n",
      "939/939 [==============================] - 2s 2ms/step - loss: 1.0594 - val_loss: 1.0084\n",
      "Epoch 5/20\n",
      "939/939 [==============================] - 2s 2ms/step - loss: 1.0556 - val_loss: 0.9987\n",
      "Epoch 6/20\n",
      "939/939 [==============================] - 2s 2ms/step - loss: 1.0293 - val_loss: 0.9958\n",
      "Epoch 7/20\n",
      "939/939 [==============================] - 2s 2ms/step - loss: 1.0324 - val_loss: 1.0008\n",
      "Epoch 8/20\n",
      "939/939 [==============================] - 2s 2ms/step - loss: 1.0188 - val_loss: 0.9981\n",
      "Epoch 9/20\n",
      "939/939 [==============================] - 2s 2ms/step - loss: 1.0319 - val_loss: 0.9924\n",
      "Epoch 10/20\n",
      "939/939 [==============================] - 2s 2ms/step - loss: 1.0239 - val_loss: 0.9961\n",
      "Epoch 11/20\n",
      "939/939 [==============================] - 2s 2ms/step - loss: 1.0275 - val_loss: 0.9960\n",
      "Epoch 12/20\n",
      "939/939 [==============================] - 2s 2ms/step - loss: 1.0242 - val_loss: 0.9926\n",
      "Epoch 13/20\n",
      "939/939 [==============================] - 2s 2ms/step - loss: 1.0251 - val_loss: 0.9913\n",
      "Epoch 14/20\n",
      "939/939 [==============================] - 2s 2ms/step - loss: 1.0342 - val_loss: 0.9946\n",
      "Epoch 15/20\n",
      "939/939 [==============================] - 2s 2ms/step - loss: 1.0160 - val_loss: 0.9946\n",
      "Epoch 16/20\n",
      "939/939 [==============================] - 2s 2ms/step - loss: 1.0169 - val_loss: 0.9952\n",
      "Epoch 17/20\n",
      "939/939 [==============================] - 2s 2ms/step - loss: 1.0273 - val_loss: 0.9938\n",
      "Epoch 18/20\n",
      "939/939 [==============================] - 2s 2ms/step - loss: 1.0106 - val_loss: 0.9923\n",
      "Epoch 19/20\n",
      "939/939 [==============================] - 2s 2ms/step - loss: 1.0081 - val_loss: 0.9902\n",
      "Epoch 20/20\n",
      "939/939 [==============================] - 2s 2ms/step - loss: 1.0161 - val_loss: 0.9911\n"
     ]
    }
   ],
   "source": [
    "wdl_model.compile(optimizer='sgd', loss='mse')\n",
    "\n",
    "history = wdl_model.fit(\n",
    "        tr_features, \n",
    "        tr_ratings, \n",
    "        batch_size=64,\n",
    "        epochs=20, verbose=1, callbacks=[ModelCheckpoint('model.h5', save_best_only=True, monitor='val_loss', mode='min')], validation_data=(val_features, val_ratings))"
   ]
  },
  {
   "cell_type": "markdown",
   "metadata": {
    "id": "O3v4mtXA14dH"
   },
   "source": [
    "### Evaluate the model on train and validation sets using RMSE¶"
   ]
  },
  {
   "cell_type": "code",
   "execution_count": 291,
   "metadata": {
    "id": "ifCAkKSo14dH",
    "outputId": "0f024d5f-f4ec-493c-c2ec-febf7973e6e9"
   },
   "outputs": [
    {
     "name": "stdout",
     "output_type": "stream",
     "text": [
      "TRAIN RMSE:  0.9983329135327625\n",
      "VALID RMSE:  0.9955253799909836\n"
     ]
    }
   ],
   "source": [
    "y_pred = wdl_model.predict(tr_features)\n",
    "print(\"TRAIN RMSE: \", rmse(y_pred, tr_ratings))\n",
    "y_pred = wdl_model.predict(val_features)\n",
    "print(\"VALID RMSE: \", rmse(y_pred, val_ratings))"
   ]
  },
  {
   "cell_type": "code",
   "execution_count": 300,
   "metadata": {},
   "outputs": [],
   "source": [
    "y_pred = wdl_model.predict(te_features)\n",
    "pd.concat((te_df[['user_id', 'business_id']], pd.DataFrame(y_pred, columns=['stars'])), axis=1).to_csv('test.csv', index=False)"
   ]
  },
  {
   "cell_type": "code",
   "execution_count": 252,
   "metadata": {},
   "outputs": [
    {
     "name": "stdout",
     "output_type": "stream",
     "text": [
      "dict_keys(['loss', 'val_loss'])\n"
     ]
    },
    {
     "data": {
      "image/png": "[encoded data removed]",
      "text/plain": [
       "<Figure size 432x288 with 1 Axes>"
      ]
     },
     "metadata": {
      "needs_background": "light"
     },
     "output_type": "display_data"
    }
   ],
   "source": [
    "print(history.history.keys())\n",
    "# \"Loss\"\n",
    "plt.plot(history.history['loss'])\n",
    "plt.plot(history.history['val_loss'])\n",
    "plt.title('model loss')\n",
    "plt.ylabel('loss')\n",
    "plt.xlabel('epoch')\n",
    "plt.legend(['train', 'validation'], loc='upper left')\n",
    "plt.show()"
   ]
  },
  {
   "cell_type": "code",
   "execution_count": null,
   "metadata": {},
   "outputs": [],
   "source": []
  }
 ],
 "metadata": {
  "colab": {
   "collapsed_sections": [],
   "name": "Tutorial 9 Wide & Deep Learning.ipynb",
   "provenance": [],
   "toc_visible": true
  },
  "kernelspec": {
   "display_name": "Python 3",
   "language": "python",
   "name": "python3"
  },
  "language_info": {
   "codemirror_mode": {
    "name": "ipython",
    "version": 3
   },
   "file_extension": ".py",
   "mimetype": "text/x-python",
   "name": "python",
   "nbconvert_exporter": "python",
   "pygments_lexer": "ipython3",
   "version": "3.7.9"
  }
 },
 "nbformat": 4,
 "nbformat_minor": 4
}
